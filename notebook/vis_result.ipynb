{
 "cells": [
  {
   "cell_type": "code",
   "execution_count": 1,
   "id": "6ba7aac9",
   "metadata": {},
   "outputs": [],
   "source": [
    "import pandas as pd\n",
    "import cv2\n",
    "import os\n",
    "import tqdm\n",
    "import matplotlib.pyplot as plt\n",
    "%matplotlib inline"
   ]
  },
  {
   "cell_type": "code",
   "execution_count": 23,
   "id": "f5e3667d",
   "metadata": {},
   "outputs": [],
   "source": [
    "result_df = pd.read_csv(\"../result/output01.csv\", index_col = 0)"
   ]
  },
  {
   "cell_type": "code",
   "execution_count": 24,
   "id": "f55cc4d8",
   "metadata": {
    "scrolled": true
   },
   "outputs": [
    {
     "data": {
      "text/html": [
       "<div>\n",
       "<style scoped>\n",
       "    .dataframe tbody tr th:only-of-type {\n",
       "        vertical-align: middle;\n",
       "    }\n",
       "\n",
       "    .dataframe tbody tr th {\n",
       "        vertical-align: top;\n",
       "    }\n",
       "\n",
       "    .dataframe thead th {\n",
       "        text-align: right;\n",
       "    }\n",
       "</style>\n",
       "<table border=\"1\" class=\"dataframe\">\n",
       "  <thead>\n",
       "    <tr style=\"text-align: right;\">\n",
       "      <th></th>\n",
       "      <th>name</th>\n",
       "      <th>label</th>\n",
       "      <th>pred</th>\n",
       "      <th>judge</th>\n",
       "      <th>prob</th>\n",
       "    </tr>\n",
       "  </thead>\n",
       "  <tbody>\n",
       "    <tr>\n",
       "      <th>0</th>\n",
       "      <td>toshima1.png</td>\n",
       "      <td>1.0</td>\n",
       "      <td>1.0</td>\n",
       "      <td>1.0</td>\n",
       "      <td>0.102134</td>\n",
       "    </tr>\n",
       "    <tr>\n",
       "      <th>1</th>\n",
       "      <td>toshima10.png</td>\n",
       "      <td>1.0</td>\n",
       "      <td>1.0</td>\n",
       "      <td>1.0</td>\n",
       "      <td>0.723565</td>\n",
       "    </tr>\n",
       "    <tr>\n",
       "      <th>2</th>\n",
       "      <td>toshima100.png</td>\n",
       "      <td>1.0</td>\n",
       "      <td>0.0</td>\n",
       "      <td>0.0</td>\n",
       "      <td>0.004804</td>\n",
       "    </tr>\n",
       "    <tr>\n",
       "      <th>3</th>\n",
       "      <td>toshima1000.png</td>\n",
       "      <td>1.0</td>\n",
       "      <td>1.0</td>\n",
       "      <td>1.0</td>\n",
       "      <td>0.256179</td>\n",
       "    </tr>\n",
       "    <tr>\n",
       "      <th>4</th>\n",
       "      <td>toshima10000.png</td>\n",
       "      <td>0.0</td>\n",
       "      <td>0.0</td>\n",
       "      <td>1.0</td>\n",
       "      <td>0.013437</td>\n",
       "    </tr>\n",
       "    <tr>\n",
       "      <th>...</th>\n",
       "      <td>...</td>\n",
       "      <td>...</td>\n",
       "      <td>...</td>\n",
       "      <td>...</td>\n",
       "      <td>...</td>\n",
       "    </tr>\n",
       "    <tr>\n",
       "      <th>11323</th>\n",
       "      <td>toshima21626.png</td>\n",
       "      <td>0.0</td>\n",
       "      <td>0.0</td>\n",
       "      <td>1.0</td>\n",
       "      <td>0.081155</td>\n",
       "    </tr>\n",
       "    <tr>\n",
       "      <th>11324</th>\n",
       "      <td>toshima21629.png</td>\n",
       "      <td>0.0</td>\n",
       "      <td>1.0</td>\n",
       "      <td>0.0</td>\n",
       "      <td>0.114886</td>\n",
       "    </tr>\n",
       "    <tr>\n",
       "      <th>11325</th>\n",
       "      <td>toshima21637.png</td>\n",
       "      <td>0.0</td>\n",
       "      <td>0.0</td>\n",
       "      <td>1.0</td>\n",
       "      <td>0.047437</td>\n",
       "    </tr>\n",
       "    <tr>\n",
       "      <th>11326</th>\n",
       "      <td>toshima21639.png</td>\n",
       "      <td>0.0</td>\n",
       "      <td>0.0</td>\n",
       "      <td>1.0</td>\n",
       "      <td>0.031569</td>\n",
       "    </tr>\n",
       "    <tr>\n",
       "      <th>11327</th>\n",
       "      <td>toshima21640.png</td>\n",
       "      <td>0.0</td>\n",
       "      <td>0.0</td>\n",
       "      <td>1.0</td>\n",
       "      <td>0.023618</td>\n",
       "    </tr>\n",
       "  </tbody>\n",
       "</table>\n",
       "<p>11328 rows × 5 columns</p>\n",
       "</div>"
      ],
      "text/plain": [
       "                   name  label  pred  judge      prob\n",
       "0          toshima1.png    1.0   1.0    1.0  0.102134\n",
       "1         toshima10.png    1.0   1.0    1.0  0.723565\n",
       "2        toshima100.png    1.0   0.0    0.0  0.004804\n",
       "3       toshima1000.png    1.0   1.0    1.0  0.256179\n",
       "4      toshima10000.png    0.0   0.0    1.0  0.013437\n",
       "...                 ...    ...   ...    ...       ...\n",
       "11323  toshima21626.png    0.0   0.0    1.0  0.081155\n",
       "11324  toshima21629.png    0.0   1.0    0.0  0.114886\n",
       "11325  toshima21637.png    0.0   0.0    1.0  0.047437\n",
       "11326  toshima21639.png    0.0   0.0    1.0  0.031569\n",
       "11327  toshima21640.png    0.0   0.0    1.0  0.023618\n",
       "\n",
       "[11328 rows x 5 columns]"
      ]
     },
     "execution_count": 24,
     "metadata": {},
     "output_type": "execute_result"
    }
   ],
   "source": [
    "result_df"
   ]
  },
  {
   "cell_type": "code",
   "execution_count": 15,
   "id": "479172a9",
   "metadata": {},
   "outputs": [],
   "source": [
    "aero_old_path = \"../data/aerophoto/ortho_old/192\"\n",
    "aero_new_path = \"../data/aerophoto/ortho_new/192\""
   ]
  },
  {
   "cell_type": "code",
   "execution_count": 26,
   "id": "9b328fea",
   "metadata": {},
   "outputs": [
    {
     "name": "stderr",
     "output_type": "stream",
     "text": [
      "100%|███████████████████████████████████████████████████████████████████████████████| 3269/3269 [06:35<00:00,  8.26it/s]\n"
     ]
    }
   ],
   "source": [
    "target_df = result_df[result_df.judge == 0]\n",
    "target_names = target_df.name.values\n",
    "\n",
    "idx = 0\n",
    "for idx in tqdm.tqdm(range(len(target_names))):\n",
    "    old_tmp_1 = cv2.imread(os.path.join(aero_old_path, target_names[idx]), 1)\n",
    "    new_tmp_1 = cv2.imread(os.path.join(aero_new_path, target_names[idx]), 1)\n",
    "    pred = target_df.pred.values[idx]\n",
    "    label = target_df.label.values[idx]\n",
    "    prob = target_df.prob.values[idx]\n",
    "    #print(f\"pred: {pred}, label: {label}\")\n",
    "    #print(target_names[idx])\n",
    "    plt.figure()\n",
    "    ax = plt.subplot(1, 2, 1)\n",
    "    ax.set_title(f\"pred: [{int(pred)}]\")\n",
    "    ax.set_xlabel(target_names[idx])\n",
    "    ax.imshow(old_tmp_1)\n",
    "\n",
    "    #plt.axis('off')\n",
    "\n",
    "    ax = plt.subplot(1, 2, 2)\n",
    "    ax.set_title(f\"label: [{int(label)}]\")\n",
    "    ax.set_xlabel(f\"prob: [{round(prob, 3)}]\")\n",
    "\n",
    "    ax.imshow(new_tmp_1)\n",
    "    #ax.axis('off')\n",
    "    plt.savefig(f\"visualize01/{target_names[idx][:-4]+'.jpg'}\")\n",
    "    plt.close()\n",
    "    #plt.show()\n",
    "    #if idx == 10:\n",
    "    #    break\n"
   ]
  },
  {
   "cell_type": "code",
   "execution_count": 21,
   "id": "80e9f3e3",
   "metadata": {},
   "outputs": [
    {
     "data": {
      "text/plain": [
       "1712"
      ]
     },
     "execution_count": 21,
     "metadata": {},
     "output_type": "execute_result"
    }
   ],
   "source": [
    "len(target_df.name.unique())"
   ]
  },
  {
   "cell_type": "code",
   "execution_count": 21,
   "id": "a9da6b88",
   "metadata": {},
   "outputs": [
    {
     "data": {
      "text/plain": [
       "array(['toshima100.png', 1.0, 0.0, 0.0, 0.0048040156], dtype=object)"
      ]
     },
     "execution_count": 21,
     "metadata": {},
     "output_type": "execute_result"
    }
   ],
   "source": [
    "prob"
   ]
  },
  {
   "cell_type": "code",
   "execution_count": 30,
   "id": "6207888b",
   "metadata": {},
   "outputs": [
    {
     "data": {
      "text/plain": [
       "1712"
      ]
     },
     "execution_count": 30,
     "metadata": {},
     "output_type": "execute_result"
    }
   ],
   "source": [
    "len(target_names)"
   ]
  },
  {
   "cell_type": "code",
   "execution_count": 8,
   "id": "7b539f99",
   "metadata": {},
   "outputs": [
    {
     "name": "stdout",
     "output_type": "stream",
     "text": [
      "0.0\n",
      "1.0\n",
      "1.0\n",
      "1.0\n",
      "1.0\n",
      "1.0\n",
      "1.0\n",
      "1.0\n",
      "1.0\n",
      "1.0\n",
      "1.0\n",
      "1.0\n",
      "1.0\n",
      "1.0\n",
      "1.0\n",
      "1.0\n",
      "1.0\n",
      "1.0\n",
      "1.0\n",
      "1.0\n"
     ]
    }
   ],
   "source": [
    "for idx in range(20):\n",
    "    c = target_df.pred.values[idx]\n",
    "    print(c)"
   ]
  },
  {
   "cell_type": "code",
   "execution_count": 9,
   "id": "648aac36",
   "metadata": {},
   "outputs": [
    {
     "data": {
      "text/html": [
       "<div>\n",
       "<style scoped>\n",
       "    .dataframe tbody tr th:only-of-type {\n",
       "        vertical-align: middle;\n",
       "    }\n",
       "\n",
       "    .dataframe tbody tr th {\n",
       "        vertical-align: top;\n",
       "    }\n",
       "\n",
       "    .dataframe thead th {\n",
       "        text-align: right;\n",
       "    }\n",
       "</style>\n",
       "<table border=\"1\" class=\"dataframe\">\n",
       "  <thead>\n",
       "    <tr style=\"text-align: right;\">\n",
       "      <th></th>\n",
       "      <th>name</th>\n",
       "      <th>label</th>\n",
       "      <th>pred</th>\n",
       "      <th>judge</th>\n",
       "      <th>prob</th>\n",
       "    </tr>\n",
       "  </thead>\n",
       "  <tbody>\n",
       "    <tr>\n",
       "      <th>2</th>\n",
       "      <td>toshima100.png</td>\n",
       "      <td>1.0</td>\n",
       "      <td>0.0</td>\n",
       "      <td>0.0</td>\n",
       "      <td>0.004804</td>\n",
       "    </tr>\n",
       "    <tr>\n",
       "      <th>9</th>\n",
       "      <td>toshima10002.png</td>\n",
       "      <td>0.0</td>\n",
       "      <td>1.0</td>\n",
       "      <td>0.0</td>\n",
       "      <td>0.107946</td>\n",
       "    </tr>\n",
       "    <tr>\n",
       "      <th>26</th>\n",
       "      <td>toshima100090.png</td>\n",
       "      <td>0.0</td>\n",
       "      <td>1.0</td>\n",
       "      <td>0.0</td>\n",
       "      <td>0.135916</td>\n",
       "    </tr>\n",
       "    <tr>\n",
       "      <th>29</th>\n",
       "      <td>toshima100100.png</td>\n",
       "      <td>0.0</td>\n",
       "      <td>1.0</td>\n",
       "      <td>0.0</td>\n",
       "      <td>0.442444</td>\n",
       "    </tr>\n",
       "    <tr>\n",
       "      <th>30</th>\n",
       "      <td>toshima100115.png</td>\n",
       "      <td>0.0</td>\n",
       "      <td>1.0</td>\n",
       "      <td>0.0</td>\n",
       "      <td>0.339901</td>\n",
       "    </tr>\n",
       "    <tr>\n",
       "      <th>...</th>\n",
       "      <td>...</td>\n",
       "      <td>...</td>\n",
       "      <td>...</td>\n",
       "      <td>...</td>\n",
       "      <td>...</td>\n",
       "    </tr>\n",
       "    <tr>\n",
       "      <th>11298</th>\n",
       "      <td>toshima21576.png</td>\n",
       "      <td>0.0</td>\n",
       "      <td>1.0</td>\n",
       "      <td>0.0</td>\n",
       "      <td>0.133770</td>\n",
       "    </tr>\n",
       "    <tr>\n",
       "      <th>11316</th>\n",
       "      <td>toshima21618.png</td>\n",
       "      <td>0.0</td>\n",
       "      <td>1.0</td>\n",
       "      <td>0.0</td>\n",
       "      <td>0.141741</td>\n",
       "    </tr>\n",
       "    <tr>\n",
       "      <th>11318</th>\n",
       "      <td>toshima21620.png</td>\n",
       "      <td>0.0</td>\n",
       "      <td>1.0</td>\n",
       "      <td>0.0</td>\n",
       "      <td>0.107028</td>\n",
       "    </tr>\n",
       "    <tr>\n",
       "      <th>11319</th>\n",
       "      <td>toshima21622.png</td>\n",
       "      <td>0.0</td>\n",
       "      <td>1.0</td>\n",
       "      <td>0.0</td>\n",
       "      <td>0.370446</td>\n",
       "    </tr>\n",
       "    <tr>\n",
       "      <th>11324</th>\n",
       "      <td>toshima21629.png</td>\n",
       "      <td>0.0</td>\n",
       "      <td>1.0</td>\n",
       "      <td>0.0</td>\n",
       "      <td>0.114886</td>\n",
       "    </tr>\n",
       "  </tbody>\n",
       "</table>\n",
       "<p>3269 rows × 5 columns</p>\n",
       "</div>"
      ],
      "text/plain": [
       "                    name  label  pred  judge      prob\n",
       "2         toshima100.png    1.0   0.0    0.0  0.004804\n",
       "9       toshima10002.png    0.0   1.0    0.0  0.107946\n",
       "26     toshima100090.png    0.0   1.0    0.0  0.135916\n",
       "29     toshima100100.png    0.0   1.0    0.0  0.442444\n",
       "30     toshima100115.png    0.0   1.0    0.0  0.339901\n",
       "...                  ...    ...   ...    ...       ...\n",
       "11298   toshima21576.png    0.0   1.0    0.0  0.133770\n",
       "11316   toshima21618.png    0.0   1.0    0.0  0.141741\n",
       "11318   toshima21620.png    0.0   1.0    0.0  0.107028\n",
       "11319   toshima21622.png    0.0   1.0    0.0  0.370446\n",
       "11324   toshima21629.png    0.0   1.0    0.0  0.114886\n",
       "\n",
       "[3269 rows x 5 columns]"
      ]
     },
     "execution_count": 9,
     "metadata": {},
     "output_type": "execute_result"
    }
   ],
   "source": [
    "target_df"
   ]
  },
  {
   "cell_type": "code",
   "execution_count": null,
   "id": "2d640164",
   "metadata": {},
   "outputs": [],
   "source": []
  }
 ],
 "metadata": {
  "kernelspec": {
   "display_name": "Python 3 (ipykernel)",
   "language": "python",
   "name": "python3"
  },
  "language_info": {
   "codemirror_mode": {
    "name": "ipython",
    "version": 3
   },
   "file_extension": ".py",
   "mimetype": "text/x-python",
   "name": "python",
   "nbconvert_exporter": "python",
   "pygments_lexer": "ipython3",
   "version": "3.8.8"
  }
 },
 "nbformat": 4,
 "nbformat_minor": 5
}
