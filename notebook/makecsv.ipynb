{
 "cells": [
  {
   "cell_type": "code",
   "execution_count": 15,
   "id": "d4f1726f",
   "metadata": {},
   "outputs": [],
   "source": [
    "import os\n",
    "import pandas as pd\n",
    "import cv2\n",
    "import numpy as np\n",
    "import tqdm\n",
    "import matplotlib.pyplot as plt\n",
    "%matplotlib inline"
   ]
  },
  {
   "cell_type": "code",
   "execution_count": 2,
   "id": "b52d1586",
   "metadata": {},
   "outputs": [],
   "source": [
    "aero_old_path = \"../data/aerophoto/ortho_old/192\"\n",
    "aero_old = os.listdir(aero_old_path)\n",
    "aero_new_path = \"../data/aerophoto/ortho_new/192\"\n"
   ]
  },
  {
   "cell_type": "code",
   "execution_count": 3,
   "id": "408ccd0e",
   "metadata": {},
   "outputs": [],
   "source": [
    "def diff_img(a, b):\n",
    "    a = a.reshape(-1).astype(np.float)\n",
    "    b = b.reshape(-1).astype(np.float)\n",
    "    diff = a-b\n",
    "    sq_diff = diff**2\n",
    "    sq_diff_sum = np.mean(sq_diff)\n",
    "    return np.sqrt(sq_diff_sum)"
   ]
  },
  {
   "cell_type": "code",
   "execution_count": 12,
   "id": "bb3a273b",
   "metadata": {},
   "outputs": [],
   "source": [
    "aero_old_path = \"../data/aerophoto/ortho_old/192\"\n",
    "aero_new_path = \"../data/aerophoto/ortho_new/192\"\n",
    "\n",
    "refrection_old_path = \"../data/refrection/ortho_old/192\" # rtho_old/192\"\n",
    "refrection_new_path = \"../data/refrection/ortho_new/192\"\n",
    "\n",
    "elevation_old_path = \"../data/elevation/ortho_old/192\" # rtho_old/192\"\n",
    "elevation_new_path = \"../data/elevation/ortho_new/192\"\n",
    "\n",
    "shaded_relief_old_path = \"../data/shaded-relief/ortho_old/192\" # rtho_old/192\"\n",
    "shaded_relief_new_path = \"../data/shaded-relief/ortho_new/192\"\n"
   ]
  },
  {
   "cell_type": "code",
   "execution_count": 6,
   "id": "b04b2487",
   "metadata": {},
   "outputs": [],
   "source": [
    "df = pd.read_csv(\"../data/shape/R020101-R030101/R020101-R030101.csv\")"
   ]
  },
  {
   "cell_type": "code",
   "execution_count": 21,
   "id": "407977bb",
   "metadata": {},
   "outputs": [
    {
     "name": "stderr",
     "output_type": "stream",
     "text": [
      "\r",
      "0it [00:00, ?it/s]"
     ]
    },
    {
     "name": "stdout",
     "output_type": "stream",
     "text": [
      "../data/aerophoto/ortho_old/192/toshima1\n",
      "36.03777845615361\n",
      "../data/aerophoto/ortho_old/192/toshima10\n",
      "44.82077470401992\n"
     ]
    },
    {
     "name": "stderr",
     "output_type": "stream",
     "text": [
      "3it [00:00,  5.50it/s]"
     ]
    },
    {
     "name": "stdout",
     "output_type": "stream",
     "text": [
      "../data/aerophoto/ortho_old/192/toshima100\n",
      "34.406595258958674\n",
      "../data/aerophoto/ortho_old/192/toshima1000\n"
     ]
    },
    {
     "name": "stderr",
     "output_type": "stream",
     "text": [
      "\r",
      "4it [00:00,  6.11it/s]"
     ]
    },
    {
     "name": "stdout",
     "output_type": "stream",
     "text": [
      "38.642790124401756\n",
      "../data/aerophoto/ortho_old/192/toshima10000\n",
      "31.343771804491414\n"
     ]
    },
    {
     "name": "stderr",
     "output_type": "stream",
     "text": [
      "6it [00:00,  6.14it/s]"
     ]
    },
    {
     "name": "stdout",
     "output_type": "stream",
     "text": [
      "../data/aerophoto/ortho_old/192/toshima100000\n",
      "29.584110206656153\n",
      "../data/aerophoto/ortho_old/192/toshima100001\n",
      "27.88102424023992\n"
     ]
    },
    {
     "name": "stderr",
     "output_type": "stream",
     "text": [
      "\r",
      "8it [00:01,  7.41it/s]"
     ]
    },
    {
     "name": "stdout",
     "output_type": "stream",
     "text": [
      "../data/aerophoto/ortho_old/192/toshima100002\n",
      "45.49136085709658\n",
      "../data/aerophoto/ortho_old/192/toshima100003\n",
      "32.86615432098447\n"
     ]
    },
    {
     "name": "stderr",
     "output_type": "stream",
     "text": [
      "\r",
      "9it [00:01,  7.59it/s]"
     ]
    },
    {
     "name": "stdout",
     "output_type": "stream",
     "text": [
      "../data/aerophoto/ortho_old/192/toshima100004\n",
      "20.03714330072474\n"
     ]
    },
    {
     "name": "stderr",
     "output_type": "stream",
     "text": [
      "11it [00:01,  6.33it/s]"
     ]
    },
    {
     "name": "stdout",
     "output_type": "stream",
     "text": [
      "../data/aerophoto/ortho_old/192/toshima100005\n",
      "12.361510673873136\n",
      "../data/aerophoto/ortho_old/192/toshima100006\n"
     ]
    },
    {
     "name": "stderr",
     "output_type": "stream",
     "text": [
      "\r",
      "12it [00:01,  6.54it/s]"
     ]
    },
    {
     "name": "stdout",
     "output_type": "stream",
     "text": [
      "21.60232141060208\n",
      "../data/aerophoto/ortho_old/192/toshima100007\n",
      "27.868124137904875\n"
     ]
    },
    {
     "name": "stderr",
     "output_type": "stream",
     "text": [
      "14it [00:02,  7.43it/s]"
     ]
    },
    {
     "name": "stdout",
     "output_type": "stream",
     "text": [
      "../data/aerophoto/ortho_old/192/toshima100008\n",
      "28.96277182307462\n",
      "../data/aerophoto/ortho_old/192/toshima100009\n",
      "32.365343594892764\n"
     ]
    },
    {
     "name": "stderr",
     "output_type": "stream",
     "text": [
      "16it [00:02,  7.24it/s]"
     ]
    },
    {
     "name": "stdout",
     "output_type": "stream",
     "text": [
      "../data/aerophoto/ortho_old/192/toshima10001\n",
      "20.713620234539636\n",
      "../data/aerophoto/ortho_old/192/toshima100010\n",
      "27.670684890935913\n"
     ]
    },
    {
     "name": "stderr",
     "output_type": "stream",
     "text": [
      "18it [00:02,  6.60it/s]"
     ]
    },
    {
     "name": "stdout",
     "output_type": "stream",
     "text": [
      "../data/aerophoto/ortho_old/192/toshima100011\n",
      "21.384217652701206\n",
      "../data/aerophoto/ortho_old/192/toshima100012\n"
     ]
    },
    {
     "name": "stderr",
     "output_type": "stream",
     "text": [
      "\r",
      "19it [00:02,  6.51it/s]"
     ]
    },
    {
     "name": "stdout",
     "output_type": "stream",
     "text": [
      "20.3525766811161\n",
      "../data/aerophoto/ortho_old/192/toshima100013\n",
      "31.634646321991884\n"
     ]
    },
    {
     "name": "stderr",
     "output_type": "stream",
     "text": [
      "21it [00:03,  6.44it/s]"
     ]
    },
    {
     "name": "stdout",
     "output_type": "stream",
     "text": [
      "../data/aerophoto/ortho_old/192/toshima100014\n",
      "18.039473442683096\n",
      "../data/aerophoto/ortho_old/192/toshima100015\n"
     ]
    },
    {
     "name": "stderr",
     "output_type": "stream",
     "text": [
      "\r",
      "22it [00:03,  5.77it/s]"
     ]
    },
    {
     "name": "stdout",
     "output_type": "stream",
     "text": [
      "17.129305456238015\n",
      "../data/aerophoto/ortho_old/192/toshima100016\n",
      "21.150038013932143\n"
     ]
    },
    {
     "name": "stderr",
     "output_type": "stream",
     "text": [
      "24it [00:03,  6.41it/s]"
     ]
    },
    {
     "name": "stdout",
     "output_type": "stream",
     "text": [
      "../data/aerophoto/ortho_old/192/toshima100017\n",
      "18.772520956819033\n",
      "../data/aerophoto/ortho_old/192/toshima100018\n",
      "19.19314852259221\n"
     ]
    },
    {
     "name": "stderr",
     "output_type": "stream",
     "text": [
      "26it [00:03,  6.40it/s]"
     ]
    },
    {
     "name": "stdout",
     "output_type": "stream",
     "text": [
      "../data/aerophoto/ortho_old/192/toshima100019\n",
      "21.292638995119308\n",
      "../data/aerophoto/ortho_old/192/toshima10002\n",
      "34.45815926885929\n"
     ]
    },
    {
     "name": "stderr",
     "output_type": "stream",
     "text": [
      "28it [00:04,  6.28it/s]"
     ]
    },
    {
     "name": "stdout",
     "output_type": "stream",
     "text": [
      "../data/aerophoto/ortho_old/192/toshima100020\n",
      "23.24195725095551\n",
      "../data/aerophoto/ortho_old/192/toshima100021\n",
      "26.559634612462652\n"
     ]
    },
    {
     "name": "stderr",
     "output_type": "stream",
     "text": [
      "30it [00:04,  6.24it/s]"
     ]
    },
    {
     "name": "stdout",
     "output_type": "stream",
     "text": [
      "../data/aerophoto/ortho_old/192/toshima100022\n",
      "27.077617974951103\n",
      "../data/aerophoto/ortho_old/192/toshima100023\n",
      "21.76426314358357\n"
     ]
    },
    {
     "name": "stderr",
     "output_type": "stream",
     "text": [
      "32it [00:04,  6.79it/s]"
     ]
    },
    {
     "name": "stdout",
     "output_type": "stream",
     "text": [
      "../data/aerophoto/ortho_old/192/toshima100024\n",
      "26.40447903979891\n",
      "../data/aerophoto/ortho_old/192/toshima100025\n",
      "21.794326646920616\n"
     ]
    },
    {
     "name": "stderr",
     "output_type": "stream",
     "text": [
      "34it [00:05,  7.19it/s]"
     ]
    },
    {
     "name": "stdout",
     "output_type": "stream",
     "text": [
      "../data/aerophoto/ortho_old/192/toshima100026\n",
      "18.109433093047585\n",
      "../data/aerophoto/ortho_old/192/toshima100027\n"
     ]
    },
    {
     "name": "stderr",
     "output_type": "stream",
     "text": [
      "\r",
      "35it [00:05,  6.08it/s]"
     ]
    },
    {
     "name": "stdout",
     "output_type": "stream",
     "text": [
      "19.23152040318299\n",
      "../data/aerophoto/ortho_old/192/toshima100028\n",
      "25.387611080291304\n"
     ]
    },
    {
     "name": "stderr",
     "output_type": "stream",
     "text": [
      "\r",
      "37it [00:05,  7.15it/s]"
     ]
    },
    {
     "name": "stdout",
     "output_type": "stream",
     "text": [
      "../data/aerophoto/ortho_old/192/toshima100029\n",
      "28.411803281920804\n",
      "../data/aerophoto/ortho_old/192/toshima10003\n",
      "26.90001308755637\n"
     ]
    },
    {
     "name": "stderr",
     "output_type": "stream",
     "text": [
      "\r",
      "38it [00:05,  7.38it/s]"
     ]
    },
    {
     "name": "stdout",
     "output_type": "stream",
     "text": [
      "../data/aerophoto/ortho_old/192/toshima100030\n",
      "21.81262008082465\n",
      "../data/aerophoto/ortho_old/192/toshima100031\n",
      "28.267155590875284\n"
     ]
    },
    {
     "name": "stderr",
     "output_type": "stream",
     "text": [
      "41it [00:06,  8.17it/s]"
     ]
    },
    {
     "name": "stdout",
     "output_type": "stream",
     "text": [
      "../data/aerophoto/ortho_old/192/toshima100032\n",
      "23.379209508751657\n",
      "../data/aerophoto/ortho_old/192/toshima100033\n",
      "17.43762650336387\n"
     ]
    },
    {
     "name": "stderr",
     "output_type": "stream",
     "text": [
      "43it [00:06,  7.74it/s]"
     ]
    },
    {
     "name": "stdout",
     "output_type": "stream",
     "text": [
      "../data/aerophoto/ortho_old/192/toshima100034\n",
      "18.037598847637828\n",
      "../data/aerophoto/ortho_old/192/toshima100035\n",
      "18.768054212052075\n"
     ]
    },
    {
     "name": "stderr",
     "output_type": "stream",
     "text": [
      "45it [00:06,  8.08it/s]"
     ]
    },
    {
     "name": "stdout",
     "output_type": "stream",
     "text": [
      "../data/aerophoto/ortho_old/192/toshima100036\n",
      "49.73801940035986\n",
      "../data/aerophoto/ortho_old/192/toshima100037\n",
      "29.413475777595956\n"
     ]
    },
    {
     "name": "stderr",
     "output_type": "stream",
     "text": [
      "48it [00:06, 10.00it/s]"
     ]
    },
    {
     "name": "stdout",
     "output_type": "stream",
     "text": [
      "../data/aerophoto/ortho_old/192/toshima100038\n",
      "22.742339685720136\n",
      "../data/aerophoto/ortho_old/192/toshima100039\n",
      "28.112742282808554\n",
      "../data/aerophoto/ortho_old/192/toshima10004\n",
      "25.757312620674412\n"
     ]
    },
    {
     "name": "stderr",
     "output_type": "stream",
     "text": [
      "\r",
      "49it [00:06,  9.87it/s]"
     ]
    },
    {
     "name": "stdout",
     "output_type": "stream",
     "text": [
      "../data/aerophoto/ortho_old/192/toshima100040\n",
      "23.57045483367559\n",
      "../data/aerophoto/ortho_old/192/toshima100041\n",
      "41.66407724961636\n"
     ]
    },
    {
     "name": "stderr",
     "output_type": "stream",
     "text": [
      "52it [00:07,  9.38it/s]"
     ]
    },
    {
     "name": "stdout",
     "output_type": "stream",
     "text": [
      "../data/aerophoto/ortho_old/192/toshima100042\n",
      "35.431770941868805\n",
      "../data/aerophoto/ortho_old/192/toshima100043\n",
      "21.695580407037035\n"
     ]
    },
    {
     "name": "stderr",
     "output_type": "stream",
     "text": [
      "55it [00:07,  9.50it/s]"
     ]
    },
    {
     "name": "stdout",
     "output_type": "stream",
     "text": [
      "../data/aerophoto/ortho_old/192/toshima100044\n",
      "27.696442583111615\n",
      "../data/aerophoto/ortho_old/192/toshima100045\n",
      "30.375031160080336\n",
      "../data/aerophoto/ortho_old/192/toshima100046\n"
     ]
    },
    {
     "name": "stderr",
     "output_type": "stream",
     "text": [
      "\r",
      "56it [00:07,  8.40it/s]"
     ]
    },
    {
     "name": "stdout",
     "output_type": "stream",
     "text": [
      "25.4366027020268\n",
      "../data/aerophoto/ortho_old/192/toshima100047\n",
      "29.456099243820162\n"
     ]
    },
    {
     "name": "stderr",
     "output_type": "stream",
     "text": [
      "58it [00:08,  7.63it/s]"
     ]
    },
    {
     "name": "stdout",
     "output_type": "stream",
     "text": [
      "../data/aerophoto/ortho_old/192/toshima100048\n",
      "54.67345124024643\n",
      "../data/aerophoto/ortho_old/192/toshima100049\n",
      "25.77692385221977\n"
     ]
    },
    {
     "name": "stderr",
     "output_type": "stream",
     "text": [
      "\r",
      "59it [00:08,  7.40it/s]"
     ]
    },
    {
     "name": "stdout",
     "output_type": "stream",
     "text": [
      "../data/aerophoto/ortho_old/192/toshima10005\n",
      "27.750490871149353\n",
      "../data/aerophoto/ortho_old/192/toshima100050\n",
      "20.47364467236174\n"
     ]
    },
    {
     "name": "stderr",
     "output_type": "stream",
     "text": [
      "62it [00:08,  8.55it/s]"
     ]
    },
    {
     "name": "stdout",
     "output_type": "stream",
     "text": [
      "../data/aerophoto/ortho_old/192/toshima100051\n",
      "21.399056460966158\n",
      "../data/aerophoto/ortho_old/192/toshima100052\n",
      "17.949324950489537\n"
     ]
    },
    {
     "name": "stderr",
     "output_type": "stream",
     "text": [
      "65it [00:08,  9.48it/s]"
     ]
    },
    {
     "name": "stdout",
     "output_type": "stream",
     "text": [
      "../data/aerophoto/ortho_old/192/toshima100053\n",
      "15.285751055177236\n",
      "../data/aerophoto/ortho_old/192/toshima100054\n",
      "14.466063468234621\n",
      "../data/aerophoto/ortho_old/192/toshima100055\n"
     ]
    },
    {
     "name": "stderr",
     "output_type": "stream",
     "text": [
      "\r",
      "66it [00:08,  9.27it/s]"
     ]
    },
    {
     "name": "stdout",
     "output_type": "stream",
     "text": [
      "14.63086938276985\n",
      "../data/aerophoto/ortho_old/192/toshima100056\n",
      "20.8345518569167\n"
     ]
    },
    {
     "name": "stderr",
     "output_type": "stream",
     "text": [
      "69it [00:09,  9.41it/s]"
     ]
    },
    {
     "name": "stdout",
     "output_type": "stream",
     "text": [
      "../data/aerophoto/ortho_old/192/toshima100057\n",
      "32.87583788013191\n",
      "../data/aerophoto/ortho_old/192/toshima100058\n",
      "31.104021955263523\n",
      "../data/aerophoto/ortho_old/192/toshima100059\n",
      "28.64946810661627\n"
     ]
    },
    {
     "name": "stderr",
     "output_type": "stream",
     "text": [
      "71it [00:09,  9.37it/s]"
     ]
    },
    {
     "name": "stdout",
     "output_type": "stream",
     "text": [
      "../data/aerophoto/ortho_old/192/toshima10006\n",
      "20.27079930767337\n",
      "../data/aerophoto/ortho_old/192/toshima100060\n",
      "26.653264082093575\n"
     ]
    },
    {
     "name": "stderr",
     "output_type": "stream",
     "text": [
      "74it [00:09,  9.79it/s]"
     ]
    },
    {
     "name": "stdout",
     "output_type": "stream",
     "text": [
      "../data/aerophoto/ortho_old/192/toshima100061\n",
      "24.53165152346236\n",
      "../data/aerophoto/ortho_old/192/toshima100062\n",
      "44.118515692885985\n",
      "../data/aerophoto/ortho_old/192/toshima100063\n"
     ]
    },
    {
     "name": "stderr",
     "output_type": "stream",
     "text": [
      "\r",
      "75it [00:09,  9.73it/s]"
     ]
    },
    {
     "name": "stdout",
     "output_type": "stream",
     "text": [
      "25.06331556285242\n",
      "../data/aerophoto/ortho_old/192/toshima100064\n",
      "24.224084457544887\n"
     ]
    },
    {
     "name": "stderr",
     "output_type": "stream",
     "text": [
      "77it [00:10,  8.65it/s]"
     ]
    },
    {
     "name": "stdout",
     "output_type": "stream",
     "text": [
      "../data/aerophoto/ortho_old/192/toshima100065\n",
      "26.393494232162677\n",
      "../data/aerophoto/ortho_old/192/toshima100066\n",
      "26.058998994040977\n"
     ]
    },
    {
     "name": "stderr",
     "output_type": "stream",
     "text": [
      "\r",
      "79it [00:10, 10.05it/s]"
     ]
    },
    {
     "name": "stdout",
     "output_type": "stream",
     "text": [
      "../data/aerophoto/ortho_old/192/toshima100067\n",
      "29.473692479314753\n",
      "../data/aerophoto/ortho_old/192/toshima100068\n",
      "31.868706201346928\n"
     ]
    },
    {
     "name": "stderr",
     "output_type": "stream",
     "text": [
      "82it [00:10,  9.16it/s]"
     ]
    },
    {
     "name": "stdout",
     "output_type": "stream",
     "text": [
      "../data/aerophoto/ortho_old/192/toshima100069\n",
      "30.657256656470732\n",
      "../data/aerophoto/ortho_old/192/toshima10007\n",
      "21.70856598047194\n",
      "../data/aerophoto/ortho_old/192/toshima100070\n"
     ]
    },
    {
     "name": "stderr",
     "output_type": "stream",
     "text": [
      "\r",
      "83it [00:10,  9.00it/s]"
     ]
    },
    {
     "name": "stdout",
     "output_type": "stream",
     "text": [
      "35.64491879721759\n",
      "../data/aerophoto/ortho_old/192/toshima100071\n",
      "40.315445735290645\n"
     ]
    },
    {
     "name": "stderr",
     "output_type": "stream",
     "text": [
      "85it [00:11,  8.80it/s]"
     ]
    },
    {
     "name": "stdout",
     "output_type": "stream",
     "text": [
      "../data/aerophoto/ortho_old/192/toshima100072\n",
      "33.30582299855656\n",
      "../data/aerophoto/ortho_old/192/toshima100073\n",
      "28.30173008235702\n",
      "../data/aerophoto/ortho_old/192/toshima100074\n"
     ]
    },
    {
     "name": "stderr",
     "output_type": "stream",
     "text": [
      "\r",
      "87it [00:11,  8.90it/s]"
     ]
    },
    {
     "name": "stdout",
     "output_type": "stream",
     "text": [
      "24.99335551370577\n",
      "../data/aerophoto/ortho_old/192/toshima100075\n",
      "29.064793891044722\n"
     ]
    },
    {
     "name": "stderr",
     "output_type": "stream",
     "text": [
      "89it [00:11,  7.55it/s]"
     ]
    },
    {
     "name": "stdout",
     "output_type": "stream",
     "text": [
      "../data/aerophoto/ortho_old/192/toshima100076\n",
      "26.057797649497388\n",
      "../data/aerophoto/ortho_old/192/toshima100077\n",
      "36.46836430992752\n"
     ]
    },
    {
     "name": "stderr",
     "output_type": "stream",
     "text": [
      "92it [00:11,  9.00it/s]"
     ]
    },
    {
     "name": "stdout",
     "output_type": "stream",
     "text": [
      "../data/aerophoto/ortho_old/192/toshima100078\n",
      "30.870529983944582\n",
      "../data/aerophoto/ortho_old/192/toshima100079\n",
      "37.8762121668396\n",
      "../data/aerophoto/ortho_old/192/toshima10008\n"
     ]
    },
    {
     "name": "stderr",
     "output_type": "stream",
     "text": [
      "\r",
      "94it [00:12,  9.76it/s]"
     ]
    },
    {
     "name": "stdout",
     "output_type": "stream",
     "text": [
      "13.370113596872352\n",
      "../data/aerophoto/ortho_old/192/toshima100080\n",
      "31.042843292103893\n",
      "../data/aerophoto/ortho_old/192/toshima100081\n",
      "33.713737006588225\n"
     ]
    },
    {
     "name": "stderr",
     "output_type": "stream",
     "text": [
      "97it [00:12, 10.04it/s]"
     ]
    },
    {
     "name": "stdout",
     "output_type": "stream",
     "text": [
      "../data/aerophoto/ortho_old/192/toshima100082\n",
      "29.45066052753439\n",
      "../data/aerophoto/ortho_old/192/toshima100083\n",
      "39.29288756799395\n",
      "../data/aerophoto/ortho_old/192/toshima100084\n"
     ]
    },
    {
     "name": "stderr",
     "output_type": "stream",
     "text": [
      "\r",
      "98it [00:12,  9.66it/s]"
     ]
    },
    {
     "name": "stdout",
     "output_type": "stream",
     "text": [
      "30.02196093947682\n",
      "../data/aerophoto/ortho_old/192/toshima100085\n",
      "25.106038851503175\n"
     ]
    },
    {
     "name": "stderr",
     "output_type": "stream",
     "text": [
      "100it [00:12,  9.31it/s]"
     ]
    },
    {
     "name": "stdout",
     "output_type": "stream",
     "text": [
      "../data/aerophoto/ortho_old/192/toshima100086\n",
      "30.919988999228096\n",
      "../data/aerophoto/ortho_old/192/toshima100087\n",
      "43.715165212036766\n"
     ]
    },
    {
     "name": "stderr",
     "output_type": "stream",
     "text": [
      "102it [00:12,  9.09it/s]"
     ]
    },
    {
     "name": "stdout",
     "output_type": "stream",
     "text": [
      "../data/aerophoto/ortho_old/192/toshima100088\n",
      "36.393247415811324\n",
      "../data/aerophoto/ortho_old/192/toshima100089\n",
      "29.58272984875757\n"
     ]
    },
    {
     "name": "stderr",
     "output_type": "stream",
     "text": [
      "\r",
      "103it [00:12,  9.03it/s]"
     ]
    },
    {
     "name": "stdout",
     "output_type": "stream",
     "text": [
      "../data/aerophoto/ortho_old/192/toshima10009\n",
      "23.347696027265226\n",
      "../data/aerophoto/ortho_old/192/toshima100090\n",
      "33.12589913232837\n"
     ]
    },
    {
     "name": "stderr",
     "output_type": "stream",
     "text": [
      "107it [00:13,  9.73it/s]"
     ]
    },
    {
     "name": "stdout",
     "output_type": "stream",
     "text": [
      "../data/aerophoto/ortho_old/192/toshima100091\n",
      "21.717169781123182\n",
      "../data/aerophoto/ortho_old/192/toshima100092\n",
      "20.109046771053787\n",
      "../data/aerophoto/ortho_old/192/toshima100093\n"
     ]
    },
    {
     "name": "stderr",
     "output_type": "stream",
     "text": [
      "109it [00:13,  9.22it/s]"
     ]
    },
    {
     "name": "stdout",
     "output_type": "stream",
     "text": [
      "28.89971268069505\n",
      "../data/aerophoto/ortho_old/192/toshima100094\n",
      "27.133703981172413\n",
      "../data/aerophoto/ortho_old/192/toshima100095\n"
     ]
    },
    {
     "name": "stderr",
     "output_type": "stream",
     "text": [
      "\r",
      "111it [00:13,  9.96it/s]"
     ]
    },
    {
     "name": "stdout",
     "output_type": "stream",
     "text": [
      "26.033321373459472\n",
      "../data/aerophoto/ortho_old/192/toshima100096\n",
      "19.987258524465947\n",
      "../data/aerophoto/ortho_old/192/toshima100097\n",
      "22.839603101064093\n"
     ]
    },
    {
     "name": "stderr",
     "output_type": "stream",
     "text": [
      "\r",
      "113it [00:14, 10.17it/s]"
     ]
    },
    {
     "name": "stdout",
     "output_type": "stream",
     "text": [
      "../data/aerophoto/ortho_old/192/toshima100098\n",
      "21.7397689795504\n",
      "../data/aerophoto/ortho_old/192/toshima100099\n",
      "29.39357229024897\n",
      "../data/aerophoto/ortho_old/192/toshima1001\n",
      "44.55253644401372\n"
     ]
    },
    {
     "name": "stderr",
     "output_type": "stream",
     "text": [
      "\r",
      "115it [00:14, 11.13it/s]"
     ]
    },
    {
     "name": "stdout",
     "output_type": "stream",
     "text": [
      "../data/aerophoto/ortho_old/192/toshima10010\n",
      "38.52464338768301\n",
      "../data/aerophoto/ortho_old/192/toshima100100\n",
      "38.2682491493783\n"
     ]
    },
    {
     "name": "stderr",
     "output_type": "stream",
     "text": [
      "\r",
      "117it [00:14, 10.66it/s]"
     ]
    },
    {
     "name": "stdout",
     "output_type": "stream",
     "text": [
      "../data/aerophoto/ortho_old/192/toshima100101\n",
      "29.524693095342567\n",
      "../data/aerophoto/ortho_old/192/toshima100102\n",
      "29.772936661131656\n"
     ]
    },
    {
     "name": "stderr",
     "output_type": "stream",
     "text": [
      "120it [00:14,  9.41it/s]"
     ]
    },
    {
     "name": "stdout",
     "output_type": "stream",
     "text": [
      "../data/aerophoto/ortho_old/192/toshima100103\n",
      "26.280052536245584\n",
      "../data/aerophoto/ortho_old/192/toshima100104\n",
      "24.47081356066276\n",
      "../data/aerophoto/ortho_old/192/toshima100105\n"
     ]
    },
    {
     "name": "stderr",
     "output_type": "stream",
     "text": [
      "\r",
      "122it [00:14,  9.84it/s]"
     ]
    },
    {
     "name": "stdout",
     "output_type": "stream",
     "text": [
      "19.138978603028132\n",
      "../data/aerophoto/ortho_old/192/toshima100106\n",
      "18.633899812498246\n"
     ]
    },
    {
     "name": "stderr",
     "output_type": "stream",
     "text": [
      "125it [00:15,  9.92it/s]"
     ]
    },
    {
     "name": "stdout",
     "output_type": "stream",
     "text": [
      "../data/aerophoto/ortho_old/192/toshima100107\n",
      "22.683988987757196\n",
      "../data/aerophoto/ortho_old/192/toshima100108\n",
      "20.75757246268169\n",
      "../data/aerophoto/ortho_old/192/toshima100109\n",
      "22.01567780446628\n"
     ]
    },
    {
     "name": "stderr",
     "output_type": "stream",
     "text": [
      "127it [00:15,  9.27it/s]"
     ]
    },
    {
     "name": "stdout",
     "output_type": "stream",
     "text": [
      "../data/aerophoto/ortho_old/192/toshima10011\n",
      "24.57540951745775\n",
      "../data/aerophoto/ortho_old/192/toshima100110\n",
      "21.597160043332593\n"
     ]
    },
    {
     "name": "stderr",
     "output_type": "stream",
     "text": [
      "\r",
      "129it [00:15,  9.96it/s]"
     ]
    },
    {
     "name": "stdout",
     "output_type": "stream",
     "text": [
      "../data/aerophoto/ortho_old/192/toshima100111\n",
      "27.98116505101716\n",
      "../data/aerophoto/ortho_old/192/toshima100112\n",
      "28.561101783192264\n",
      "../data/aerophoto/ortho_old/192/toshima100113\n",
      "26.14975448214239\n"
     ]
    },
    {
     "name": "stderr",
     "output_type": "stream",
     "text": [
      "132it [00:16,  8.86it/s]"
     ]
    },
    {
     "name": "stdout",
     "output_type": "stream",
     "text": [
      "../data/aerophoto/ortho_old/192/toshima100114\n",
      "28.61693635353686\n",
      "../data/aerophoto/ortho_old/192/toshima100115\n",
      "32.51532308383595\n"
     ]
    },
    {
     "name": "stderr",
     "output_type": "stream",
     "text": [
      "\r",
      "134it [00:16,  8.36it/s]"
     ]
    },
    {
     "name": "stdout",
     "output_type": "stream",
     "text": [
      "../data/aerophoto/ortho_old/192/toshima100116\n",
      "30.10397687044172\n",
      "../data/aerophoto/ortho_old/192/toshima100117\n",
      "30.636737532082076\n"
     ]
    },
    {
     "name": "stderr",
     "output_type": "stream",
     "text": [
      "\r",
      "135it [00:16,  8.42it/s]"
     ]
    },
    {
     "name": "stdout",
     "output_type": "stream",
     "text": [
      "../data/aerophoto/ortho_old/192/toshima100118\n",
      "34.059137203176874\n",
      "../data/aerophoto/ortho_old/192/toshima100119\n",
      "26.065499350871\n"
     ]
    },
    {
     "name": "stderr",
     "output_type": "stream",
     "text": [
      "139it [00:16,  9.42it/s]"
     ]
    },
    {
     "name": "stdout",
     "output_type": "stream",
     "text": [
      "../data/aerophoto/ortho_old/192/toshima10012\n",
      "22.54727618907282\n",
      "../data/aerophoto/ortho_old/192/toshima100120\n",
      "26.92745269400187\n",
      "../data/aerophoto/ortho_old/192/toshima100121\n"
     ]
    },
    {
     "name": "stderr",
     "output_type": "stream",
     "text": [
      "\r",
      "140it [00:16,  8.69it/s]"
     ]
    },
    {
     "name": "stdout",
     "output_type": "stream",
     "text": [
      "25.267044776880518\n",
      "../data/aerophoto/ortho_old/192/toshima100122\n",
      "24.3530439624581\n"
     ]
    },
    {
     "name": "stderr",
     "output_type": "stream",
     "text": [
      "142it [00:17,  8.58it/s]"
     ]
    },
    {
     "name": "stdout",
     "output_type": "stream",
     "text": [
      "../data/aerophoto/ortho_old/192/toshima100123\n",
      "28.66996152421602\n",
      "../data/aerophoto/ortho_old/192/toshima100124\n",
      "25.83978742226699\n"
     ]
    },
    {
     "name": "stderr",
     "output_type": "stream",
     "text": [
      "\r",
      "143it [00:17,  8.07it/s]"
     ]
    },
    {
     "name": "stdout",
     "output_type": "stream",
     "text": [
      "../data/aerophoto/ortho_old/192/toshima100125\n",
      "27.43816199540463\n",
      "../data/aerophoto/ortho_old/192/toshima100126\n",
      "28.85333822711785\n"
     ]
    },
    {
     "name": "stderr",
     "output_type": "stream",
     "text": [
      "146it [00:17,  8.21it/s]"
     ]
    },
    {
     "name": "stdout",
     "output_type": "stream",
     "text": [
      "../data/aerophoto/ortho_old/192/toshima100127\n",
      "31.312487111989615\n",
      "../data/aerophoto/ortho_old/192/toshima100128\n",
      "34.70742883887564\n"
     ]
    },
    {
     "name": "stderr",
     "output_type": "stream",
     "text": [
      "148it [00:17,  7.64it/s]"
     ]
    },
    {
     "name": "stdout",
     "output_type": "stream",
     "text": [
      "../data/aerophoto/ortho_old/192/toshima100129\n",
      "40.26356744818899\n",
      "../data/aerophoto/ortho_old/192/toshima10013\n",
      "23.95062160221056\n"
     ]
    },
    {
     "name": "stderr",
     "output_type": "stream",
     "text": [
      "\r",
      "150it [00:18,  9.48it/s]"
     ]
    },
    {
     "name": "stdout",
     "output_type": "stream",
     "text": [
      "../data/aerophoto/ortho_old/192/toshima100130\n",
      "29.477727865341095\n",
      "../data/aerophoto/ortho_old/192/toshima100131\n",
      "26.12512807985798\n",
      "../data/aerophoto/ortho_old/192/toshima100132\n",
      "30.674521432174483\n"
     ]
    },
    {
     "name": "stderr",
     "output_type": "stream",
     "text": [
      "154it [00:18, 11.70it/s]"
     ]
    },
    {
     "name": "stdout",
     "output_type": "stream",
     "text": [
      "../data/aerophoto/ortho_old/192/toshima100133\n",
      "33.047789999076954\n",
      "../data/aerophoto/ortho_old/192/toshima100134\n",
      "26.265776054103657\n",
      "../data/aerophoto/ortho_old/192/toshima100135\n",
      "36.7736608181562\n"
     ]
    },
    {
     "name": "stderr",
     "output_type": "stream",
     "text": [
      "\r",
      "156it [00:18, 10.11it/s]"
     ]
    },
    {
     "name": "stdout",
     "output_type": "stream",
     "text": [
      "../data/aerophoto/ortho_old/192/toshima100136\n",
      "39.59544177847171\n",
      "../data/aerophoto/ortho_old/192/toshima100137\n",
      "66.39219700454632\n"
     ]
    },
    {
     "name": "stderr",
     "output_type": "stream",
     "text": [
      "\r",
      "158it [00:18, 10.33it/s]"
     ]
    },
    {
     "name": "stdout",
     "output_type": "stream",
     "text": [
      "../data/aerophoto/ortho_old/192/toshima100138\n",
      "39.81522749215858\n",
      "../data/aerophoto/ortho_old/192/toshima100139\n",
      "44.93738313700228\n",
      "../data/aerophoto/ortho_old/192/toshima10014\n"
     ]
    },
    {
     "name": "stderr",
     "output_type": "stream",
     "text": [
      "\r",
      "160it [00:18, 11.01it/s]"
     ]
    },
    {
     "name": "stdout",
     "output_type": "stream",
     "text": [
      "19.33311404307728\n",
      "../data/aerophoto/ortho_old/192/toshima100140\n",
      "40.93770643179473\n",
      "../data/aerophoto/ortho_old/192/toshima100141\n",
      "42.76065892820119\n"
     ]
    },
    {
     "name": "stderr",
     "output_type": "stream",
     "text": [
      "\r",
      "162it [00:19, 10.34it/s]"
     ]
    },
    {
     "name": "stdout",
     "output_type": "stream",
     "text": [
      "../data/aerophoto/ortho_old/192/toshima100142\n",
      "34.41051935213768\n",
      "../data/aerophoto/ortho_old/192/toshima100143\n",
      "41.127021473299386\n"
     ]
    },
    {
     "name": "stderr",
     "output_type": "stream",
     "text": [
      "\r",
      "164it [00:19,  9.88it/s]"
     ]
    },
    {
     "name": "stdout",
     "output_type": "stream",
     "text": [
      "../data/aerophoto/ortho_old/192/toshima100144\n",
      "48.23088380092316\n",
      "../data/aerophoto/ortho_old/192/toshima100145\n",
      "40.406050219188224\n"
     ]
    },
    {
     "name": "stderr",
     "output_type": "stream",
     "text": [
      "167it [00:19,  9.04it/s]"
     ]
    },
    {
     "name": "stdout",
     "output_type": "stream",
     "text": [
      "../data/aerophoto/ortho_old/192/toshima100146\n",
      "33.60378581917651\n",
      "../data/aerophoto/ortho_old/192/toshima100147\n",
      "30.9857659410095\n"
     ]
    },
    {
     "name": "stderr",
     "output_type": "stream",
     "text": [
      "\r",
      "169it [00:19,  9.55it/s]"
     ]
    },
    {
     "name": "stdout",
     "output_type": "stream",
     "text": [
      "../data/aerophoto/ortho_old/192/toshima100148\n",
      "30.769431301069506\n",
      "../data/aerophoto/ortho_old/192/toshima100149\n",
      "47.05695276672871\n"
     ]
    },
    {
     "name": "stderr",
     "output_type": "stream",
     "text": [
      "171it [00:20,  8.98it/s]"
     ]
    },
    {
     "name": "stdout",
     "output_type": "stream",
     "text": [
      "../data/aerophoto/ortho_old/192/toshima10015\n",
      "29.289946453250757\n",
      "../data/aerophoto/ortho_old/192/toshima100150\n",
      "31.242646672504733\n"
     ]
    },
    {
     "name": "stderr",
     "output_type": "stream",
     "text": [
      "173it [00:20,  7.86it/s]"
     ]
    },
    {
     "name": "stdout",
     "output_type": "stream",
     "text": [
      "../data/aerophoto/ortho_old/192/toshima100151\n",
      "31.630252396076976\n",
      "../data/aerophoto/ortho_old/192/toshima100152\n",
      "35.3438206765906\n"
     ]
    },
    {
     "name": "stderr",
     "output_type": "stream",
     "text": [
      "\r",
      "175it [00:20,  7.86it/s]"
     ]
    },
    {
     "name": "stdout",
     "output_type": "stream",
     "text": [
      "../data/aerophoto/ortho_old/192/toshima100153\n",
      "35.0217909954052\n",
      "../data/aerophoto/ortho_old/192/toshima100154\n"
     ]
    },
    {
     "name": "stderr",
     "output_type": "stream",
     "text": [
      "\r",
      "176it [00:20,  7.28it/s]"
     ]
    },
    {
     "name": "stdout",
     "output_type": "stream",
     "text": [
      "45.525537326954\n",
      "../data/aerophoto/ortho_old/192/toshima100155\n",
      "37.876722576618384\n"
     ]
    },
    {
     "name": "stderr",
     "output_type": "stream",
     "text": [
      "178it [00:21,  7.55it/s]"
     ]
    },
    {
     "name": "stdout",
     "output_type": "stream",
     "text": [
      "../data/aerophoto/ortho_old/192/toshima100156\n",
      "60.941187333868434\n",
      "../data/aerophoto/ortho_old/192/toshima100157\n",
      "48.60374931173294\n"
     ]
    },
    {
     "name": "stderr",
     "output_type": "stream",
     "text": [
      "180it [00:21,  8.13it/s]"
     ]
    },
    {
     "name": "stdout",
     "output_type": "stream",
     "text": [
      "../data/aerophoto/ortho_old/192/toshima100158\n",
      "33.043763608135095\n",
      "../data/aerophoto/ortho_old/192/toshima100159\n",
      "48.26107253226409\n"
     ]
    },
    {
     "name": "stderr",
     "output_type": "stream",
     "text": [
      "183it [00:21,  8.57it/s]"
     ]
    },
    {
     "name": "stdout",
     "output_type": "stream",
     "text": [
      "../data/aerophoto/ortho_old/192/toshima10016\n",
      "24.265192195809046\n",
      "../data/aerophoto/ortho_old/192/toshima100160\n",
      "40.9635324283806\n",
      "../data/aerophoto/ortho_old/192/toshima100161\n"
     ]
    },
    {
     "name": "stderr",
     "output_type": "stream",
     "text": [
      "\r",
      "184it [00:21,  8.56it/s]"
     ]
    },
    {
     "name": "stdout",
     "output_type": "stream",
     "text": [
      "36.64148967266613\n",
      "../data/aerophoto/ortho_old/192/toshima100162\n",
      "27.429814482810293\n"
     ]
    },
    {
     "name": "stderr",
     "output_type": "stream",
     "text": [
      "186it [00:22,  7.70it/s]"
     ]
    },
    {
     "name": "stdout",
     "output_type": "stream",
     "text": [
      "../data/aerophoto/ortho_old/192/toshima100163\n",
      "54.03059675750447\n",
      "../data/aerophoto/ortho_old/192/toshima100164\n",
      "42.09721952824468\n"
     ]
    },
    {
     "name": "stderr",
     "output_type": "stream",
     "text": [
      "\r",
      "188it [00:22,  8.85it/s]"
     ]
    },
    {
     "name": "stdout",
     "output_type": "stream",
     "text": [
      "../data/aerophoto/ortho_old/192/toshima100165\n",
      "34.59883081472206\n",
      "../data/aerophoto/ortho_old/192/toshima100166\n",
      "29.423487600469052\n"
     ]
    },
    {
     "name": "stderr",
     "output_type": "stream",
     "text": [
      "190it [00:22,  7.95it/s]"
     ]
    },
    {
     "name": "stdout",
     "output_type": "stream",
     "text": [
      "../data/aerophoto/ortho_old/192/toshima100167\n",
      "38.35590459336629\n",
      "../data/aerophoto/ortho_old/192/toshima100168\n",
      "41.768652557314674\n"
     ]
    },
    {
     "name": "stderr",
     "output_type": "stream",
     "text": [
      "192it [00:22,  7.93it/s]"
     ]
    },
    {
     "name": "stdout",
     "output_type": "stream",
     "text": [
      "../data/aerophoto/ortho_old/192/toshima100169\n",
      "39.45842672950152\n",
      "../data/aerophoto/ortho_old/192/toshima10017\n",
      "26.244294429386425\n"
     ]
    },
    {
     "name": "stderr",
     "output_type": "stream",
     "text": [
      "194it [00:23,  7.64it/s]"
     ]
    },
    {
     "name": "stdout",
     "output_type": "stream",
     "text": [
      "../data/aerophoto/ortho_old/192/toshima100170\n",
      "28.670008844366855\n",
      "../data/aerophoto/ortho_old/192/toshima100171\n",
      "27.56922688546545\n"
     ]
    },
    {
     "name": "stderr",
     "output_type": "stream",
     "text": [
      "\r",
      "195it [00:23,  7.90it/s]"
     ]
    },
    {
     "name": "stdout",
     "output_type": "stream",
     "text": [
      "../data/aerophoto/ortho_old/192/toshima100172\n",
      "25.037845455637186\n",
      "../data/aerophoto/ortho_old/192/toshima100173\n",
      "27.9137465897584\n"
     ]
    },
    {
     "name": "stderr",
     "output_type": "stream",
     "text": [
      "198it [00:23,  8.04it/s]"
     ]
    },
    {
     "name": "stdout",
     "output_type": "stream",
     "text": [
      "../data/aerophoto/ortho_old/192/toshima100174\n",
      "28.00723422448509\n",
      "../data/aerophoto/ortho_old/192/toshima100175\n",
      "39.418845844072365\n"
     ]
    },
    {
     "name": "stderr",
     "output_type": "stream",
     "text": [
      "\r",
      "200it [00:23,  9.48it/s]"
     ]
    },
    {
     "name": "stdout",
     "output_type": "stream",
     "text": [
      "../data/aerophoto/ortho_old/192/toshima100176\n",
      "37.108381122489696\n",
      "../data/aerophoto/ortho_old/192/toshima100177\n",
      "42.23970783744743\n"
     ]
    },
    {
     "name": "stderr",
     "output_type": "stream",
     "text": [
      "202it [00:24,  8.05it/s]"
     ]
    },
    {
     "name": "stdout",
     "output_type": "stream",
     "text": [
      "../data/aerophoto/ortho_old/192/toshima100178\n",
      "36.2360972174811\n",
      "../data/aerophoto/ortho_old/192/toshima100179\n",
      "37.16626285801539\n"
     ]
    },
    {
     "name": "stderr",
     "output_type": "stream",
     "text": [
      "\r",
      "203it [00:24,  7.19it/s]"
     ]
    },
    {
     "name": "stdout",
     "output_type": "stream",
     "text": [
      "../data/aerophoto/ortho_old/192/toshima10018\n",
      "24.196954481076183\n",
      "../data/aerophoto/ortho_old/192/toshima100180\n",
      "32.10649294395485\n"
     ]
    },
    {
     "name": "stderr",
     "output_type": "stream",
     "text": [
      "206it [00:24,  8.01it/s]"
     ]
    },
    {
     "name": "stdout",
     "output_type": "stream",
     "text": [
      "../data/aerophoto/ortho_old/192/toshima100181\n",
      "26.712319742920606\n",
      "../data/aerophoto/ortho_old/192/toshima100182\n",
      "27.667576273105496\n"
     ]
    },
    {
     "name": "stderr",
     "output_type": "stream",
     "text": [
      "208it [00:24,  7.90it/s]"
     ]
    },
    {
     "name": "stdout",
     "output_type": "stream",
     "text": [
      "../data/aerophoto/ortho_old/192/toshima100183\n",
      "27.944124627682196\n",
      "../data/aerophoto/ortho_old/192/toshima100184\n",
      "27.768594330553196\n"
     ]
    },
    {
     "name": "stderr",
     "output_type": "stream",
     "text": [
      "210it [00:25,  7.71it/s]"
     ]
    },
    {
     "name": "stdout",
     "output_type": "stream",
     "text": [
      "../data/aerophoto/ortho_old/192/toshima100185\n",
      "31.01024115194403\n",
      "../data/aerophoto/ortho_old/192/toshima100186\n",
      "38.23000619975589\n"
     ]
    },
    {
     "name": "stderr",
     "output_type": "stream",
     "text": [
      "212it [00:25,  7.26it/s]"
     ]
    },
    {
     "name": "stdout",
     "output_type": "stream",
     "text": [
      "../data/aerophoto/ortho_old/192/toshima100187\n",
      "31.813506132341114\n",
      "../data/aerophoto/ortho_old/192/toshima100188\n",
      "37.636506847385746\n"
     ]
    },
    {
     "name": "stderr",
     "output_type": "stream",
     "text": [
      "214it [00:25,  8.07it/s]"
     ]
    },
    {
     "name": "stdout",
     "output_type": "stream",
     "text": [
      "../data/aerophoto/ortho_old/192/toshima100189\n",
      "30.264470981194055\n",
      "../data/aerophoto/ortho_old/192/toshima10019\n",
      "23.516413559222276\n"
     ]
    },
    {
     "name": "stderr",
     "output_type": "stream",
     "text": [
      "216it [00:25,  7.64it/s]"
     ]
    },
    {
     "name": "stdout",
     "output_type": "stream",
     "text": [
      "../data/aerophoto/ortho_old/192/toshima100190\n",
      "30.07722954007572\n",
      "../data/aerophoto/ortho_old/192/toshima100191\n",
      "35.69402314902719\n",
      "../data/aerophoto/ortho_old/192/toshima100192\n",
      "34.22349572658614\n"
     ]
    },
    {
     "name": "stderr",
     "output_type": "stream",
     "text": [
      "219it [00:26,  7.64it/s]"
     ]
    },
    {
     "name": "stdout",
     "output_type": "stream",
     "text": [
      "../data/aerophoto/ortho_old/192/toshima100193\n",
      "31.43381821252806\n",
      "../data/aerophoto/ortho_old/192/toshima100194\n",
      "42.14383025349929\n"
     ]
    },
    {
     "name": "stderr",
     "output_type": "stream",
     "text": [
      "\r",
      "221it [00:26,  9.23it/s]"
     ]
    },
    {
     "name": "stdout",
     "output_type": "stream",
     "text": [
      "../data/aerophoto/ortho_old/192/toshima100195\n",
      "25.319417862704785\n",
      "../data/aerophoto/ortho_old/192/toshima100196\n",
      "24.33584629170341\n"
     ]
    },
    {
     "name": "stderr",
     "output_type": "stream",
     "text": [
      "224it [00:26,  9.61it/s]"
     ]
    },
    {
     "name": "stdout",
     "output_type": "stream",
     "text": [
      "../data/aerophoto/ortho_old/192/toshima100197\n",
      "35.904227510330216\n",
      "../data/aerophoto/ortho_old/192/toshima100198\n",
      "41.46158483740924\n",
      "../data/aerophoto/ortho_old/192/toshima100199\n",
      "35.2027279918104\n"
     ]
    },
    {
     "name": "stderr",
     "output_type": "stream",
     "text": [
      "\r",
      "226it [00:27,  8.93it/s]"
     ]
    },
    {
     "name": "stdout",
     "output_type": "stream",
     "text": [
      "../data/aerophoto/ortho_old/192/toshima1002\n",
      "32.65305839002255\n",
      "../data/aerophoto/ortho_old/192/toshima10020\n",
      "21.96753163358246\n"
     ]
    },
    {
     "name": "stderr",
     "output_type": "stream",
     "text": [
      "229it [00:27,  9.07it/s]"
     ]
    },
    {
     "name": "stdout",
     "output_type": "stream",
     "text": [
      "../data/aerophoto/ortho_old/192/toshima100200\n",
      "38.10004484835616\n",
      "../data/aerophoto/ortho_old/192/toshima100201\n",
      "39.2565050945682\n",
      "../data/aerophoto/ortho_old/192/toshima100202\n"
     ]
    },
    {
     "name": "stderr",
     "output_type": "stream",
     "text": [
      "\r",
      "231it [00:27,  9.94it/s]"
     ]
    },
    {
     "name": "stdout",
     "output_type": "stream",
     "text": [
      "38.087254072794344\n",
      "../data/aerophoto/ortho_old/192/toshima100203\n",
      "27.44273152895281\n",
      "../data/aerophoto/ortho_old/192/toshima100204\n",
      "33.19187526138362\n"
     ]
    },
    {
     "name": "stderr",
     "output_type": "stream",
     "text": [
      "\r",
      "233it [00:27, 10.50it/s]"
     ]
    },
    {
     "name": "stdout",
     "output_type": "stream",
     "text": [
      "../data/aerophoto/ortho_old/192/toshima100205\n",
      "30.616080581578753\n",
      "../data/aerophoto/ortho_old/192/toshima100206\n",
      "45.66157070753304\n",
      "../data/aerophoto/ortho_old/192/toshima100207\n",
      "41.3176263695401\n"
     ]
    },
    {
     "name": "stderr",
     "output_type": "stream",
     "text": [
      "237it [00:28, 10.80it/s]"
     ]
    },
    {
     "name": "stdout",
     "output_type": "stream",
     "text": [
      "../data/aerophoto/ortho_old/192/toshima100208\n",
      "31.808049312797138\n",
      "../data/aerophoto/ortho_old/192/toshima100209\n",
      "28.679768139388795\n",
      "../data/aerophoto/ortho_old/192/toshima10021\n",
      "21.73068404865869\n"
     ]
    },
    {
     "name": "stderr",
     "output_type": "stream",
     "text": [
      "\r",
      "239it [00:28,  9.96it/s]"
     ]
    },
    {
     "name": "stdout",
     "output_type": "stream",
     "text": [
      "../data/aerophoto/ortho_old/192/toshima100210\n",
      "30.701721660666625\n",
      "../data/aerophoto/ortho_old/192/toshima100211\n",
      "34.78194570631552\n",
      "../data/aerophoto/ortho_old/192/toshima100212\n"
     ]
    },
    {
     "name": "stderr",
     "output_type": "stream",
     "text": [
      "\r",
      "241it [00:28, 10.90it/s]"
     ]
    },
    {
     "name": "stdout",
     "output_type": "stream",
     "text": [
      "32.51016976646649\n",
      "../data/aerophoto/ortho_old/192/toshima100213\n",
      "35.755632693305856\n",
      "../data/aerophoto/ortho_old/192/toshima100214\n",
      "40.9631308594866\n"
     ]
    },
    {
     "name": "stderr",
     "output_type": "stream",
     "text": [
      "245it [00:28, 13.15it/s]"
     ]
    },
    {
     "name": "stdout",
     "output_type": "stream",
     "text": [
      "../data/aerophoto/ortho_old/192/toshima100215\n",
      "35.58086133955108\n",
      "../data/aerophoto/ortho_old/192/toshima100216\n",
      "34.528964009693205\n",
      "../data/aerophoto/ortho_old/192/toshima100217\n",
      "33.391463355022715\n",
      "../data/aerophoto/ortho_old/192/toshima100218\n"
     ]
    },
    {
     "name": "stderr",
     "output_type": "stream",
     "text": [
      "\r",
      "247it [00:28, 13.03it/s]"
     ]
    },
    {
     "name": "stdout",
     "output_type": "stream",
     "text": [
      "34.624772163508126\n",
      "../data/aerophoto/ortho_old/192/toshima100219\n",
      "24.96306048586702\n",
      "../data/aerophoto/ortho_old/192/toshima10022\n",
      "17.205732781176177\n"
     ]
    },
    {
     "name": "stderr",
     "output_type": "stream",
     "text": [
      "\r",
      "249it [00:29, 11.94it/s]"
     ]
    },
    {
     "name": "stdout",
     "output_type": "stream",
     "text": [
      "../data/aerophoto/ortho_old/192/toshima100220\n",
      "28.627541899416055\n",
      "../data/aerophoto/ortho_old/192/toshima100221\n",
      "35.745131436058365\n"
     ]
    },
    {
     "name": "stderr",
     "output_type": "stream",
     "text": [
      "253it [00:29, 11.28it/s]"
     ]
    },
    {
     "name": "stdout",
     "output_type": "stream",
     "text": [
      "../data/aerophoto/ortho_old/192/toshima100222\n",
      "43.3799598872673\n",
      "../data/aerophoto/ortho_old/192/toshima100223\n",
      "41.0380195382166\n",
      "../data/aerophoto/ortho_old/192/toshima100224\n",
      "32.27557264990439\n"
     ]
    },
    {
     "name": "stderr",
     "output_type": "stream",
     "text": [
      "\r",
      "255it [00:29, 11.22it/s]"
     ]
    },
    {
     "name": "stdout",
     "output_type": "stream",
     "text": [
      "../data/aerophoto/ortho_old/192/toshima100225\n",
      "37.419273214062756\n",
      "../data/aerophoto/ortho_old/192/toshima100226\n",
      "45.04377948480127\n"
     ]
    },
    {
     "name": "stderr",
     "output_type": "stream",
     "text": [
      "\r",
      "257it [00:29, 10.84it/s]"
     ]
    },
    {
     "name": "stdout",
     "output_type": "stream",
     "text": [
      "../data/aerophoto/ortho_old/192/toshima100227\n",
      "52.62731524725834\n",
      "../data/aerophoto/ortho_old/192/toshima100228\n",
      "36.209137167777804\n",
      "../data/aerophoto/ortho_old/192/toshima100229\n",
      "27.353355879539617\n"
     ]
    },
    {
     "name": "stderr",
     "output_type": "stream",
     "text": [
      "\r",
      "259it [00:30, 10.55it/s]"
     ]
    },
    {
     "name": "stdout",
     "output_type": "stream",
     "text": [
      "../data/aerophoto/ortho_old/192/toshima10023\n",
      "25.726006915715306\n",
      "../data/aerophoto/ortho_old/192/toshima100230\n",
      "27.940636141871956\n"
     ]
    },
    {
     "name": "stderr",
     "output_type": "stream",
     "text": [
      "\r",
      "261it [00:30, 10.12it/s]"
     ]
    },
    {
     "name": "stdout",
     "output_type": "stream",
     "text": [
      "../data/aerophoto/ortho_old/192/toshima100231\n",
      "30.00698150573639\n",
      "../data/aerophoto/ortho_old/192/toshima100232\n",
      "30.9096762477613\n"
     ]
    },
    {
     "name": "stderr",
     "output_type": "stream",
     "text": [
      "264it [00:30,  8.41it/s]"
     ]
    },
    {
     "name": "stdout",
     "output_type": "stream",
     "text": [
      "../data/aerophoto/ortho_old/192/toshima100233\n",
      "24.527484106558433\n",
      "../data/aerophoto/ortho_old/192/toshima100234\n"
     ]
    },
    {
     "name": "stderr",
     "output_type": "stream",
     "text": [
      "\r",
      "266it [00:30,  8.88it/s]"
     ]
    },
    {
     "name": "stdout",
     "output_type": "stream",
     "text": [
      "28.509003164437864\n",
      "../data/aerophoto/ortho_old/192/toshima100235\n",
      "26.68559055846576\n",
      "../data/aerophoto/ortho_old/192/toshima100236\n",
      "22.915615286497488\n"
     ]
    },
    {
     "name": "stderr",
     "output_type": "stream",
     "text": [
      "\r",
      "268it [00:31,  9.21it/s]"
     ]
    },
    {
     "name": "stdout",
     "output_type": "stream",
     "text": [
      "../data/aerophoto/ortho_old/192/toshima100237\n",
      "31.25455115414342\n",
      "../data/aerophoto/ortho_old/192/toshima100238\n",
      "27.415231148546464\n"
     ]
    },
    {
     "name": "stderr",
     "output_type": "stream",
     "text": [
      "270it [00:31,  9.14it/s]"
     ]
    },
    {
     "name": "stdout",
     "output_type": "stream",
     "text": [
      "../data/aerophoto/ortho_old/192/toshima100239\n",
      "34.22291398377956\n",
      "../data/aerophoto/ortho_old/192/toshima10024\n",
      "37.789591810707826\n"
     ]
    },
    {
     "name": "stderr",
     "output_type": "stream",
     "text": [
      "272it [00:31,  8.18it/s]"
     ]
    },
    {
     "name": "stdout",
     "output_type": "stream",
     "text": [
      "../data/aerophoto/ortho_old/192/toshima100240\n",
      "34.03144519371158\n",
      "../data/aerophoto/ortho_old/192/toshima100241\n",
      "25.71257305229771\n"
     ]
    },
    {
     "name": "stderr",
     "output_type": "stream",
     "text": [
      "275it [00:31,  9.32it/s]"
     ]
    },
    {
     "name": "stdout",
     "output_type": "stream",
     "text": [
      "../data/aerophoto/ortho_old/192/toshima100242\n",
      "36.04457380861417\n",
      "../data/aerophoto/ortho_old/192/toshima100243\n",
      "31.086494927382322\n",
      "../data/aerophoto/ortho_old/192/toshima100244\n"
     ]
    },
    {
     "name": "stderr",
     "output_type": "stream",
     "text": [
      "\r",
      "276it [00:32,  8.36it/s]"
     ]
    },
    {
     "name": "stdout",
     "output_type": "stream",
     "text": [
      "43.95684373000535\n",
      "../data/aerophoto/ortho_old/192/toshima100245\n",
      "36.07188157481263\n"
     ]
    },
    {
     "name": "stderr",
     "output_type": "stream",
     "text": [
      "278it [00:32,  7.43it/s]"
     ]
    },
    {
     "name": "stdout",
     "output_type": "stream",
     "text": [
      "../data/aerophoto/ortho_old/192/toshima100246\n",
      "32.8440855771724\n",
      "../data/aerophoto/ortho_old/192/toshima100247\n",
      "28.593484737273677\n"
     ]
    },
    {
     "name": "stderr",
     "output_type": "stream",
     "text": [
      "280it [00:32,  6.64it/s]"
     ]
    },
    {
     "name": "stdout",
     "output_type": "stream",
     "text": [
      "../data/aerophoto/ortho_old/192/toshima100248\n",
      "32.09776816125052\n",
      "../data/aerophoto/ortho_old/192/toshima100249\n",
      "26.42231864930838\n"
     ]
    },
    {
     "name": "stderr",
     "output_type": "stream",
     "text": [
      "\r",
      "282it [00:32,  8.16it/s]"
     ]
    },
    {
     "name": "stdout",
     "output_type": "stream",
     "text": [
      "../data/aerophoto/ortho_old/192/toshima10025\n",
      "32.65908228883643\n",
      "../data/aerophoto/ortho_old/192/toshima100250\n",
      "20.1370810943899\n"
     ]
    },
    {
     "name": "stderr",
     "output_type": "stream",
     "text": [
      "284it [00:33,  8.48it/s]"
     ]
    },
    {
     "name": "stdout",
     "output_type": "stream",
     "text": [
      "../data/aerophoto/ortho_old/192/toshima100251\n",
      "24.88076708797187\n",
      "../data/aerophoto/ortho_old/192/toshima100252\n",
      "33.935535062142065\n"
     ]
    },
    {
     "name": "stderr",
     "output_type": "stream",
     "text": [
      "286it [00:33,  7.39it/s]"
     ]
    },
    {
     "name": "stdout",
     "output_type": "stream",
     "text": [
      "../data/aerophoto/ortho_old/192/toshima100253\n",
      "36.03766551882446\n",
      "../data/aerophoto/ortho_old/192/toshima100254\n",
      "35.635638407808244\n"
     ]
    },
    {
     "name": "stderr",
     "output_type": "stream",
     "text": [
      "\r",
      "288it [00:33,  8.51it/s]"
     ]
    },
    {
     "name": "stdout",
     "output_type": "stream",
     "text": [
      "../data/aerophoto/ortho_old/192/toshima100255\n",
      "32.119552443420645\n",
      "../data/aerophoto/ortho_old/192/toshima100256\n",
      "32.24763323733774\n"
     ]
    },
    {
     "name": "stderr",
     "output_type": "stream",
     "text": [
      "\r",
      "289it [00:33,  8.29it/s]"
     ]
    },
    {
     "name": "stdout",
     "output_type": "stream",
     "text": [
      "../data/aerophoto/ortho_old/192/toshima100257\n",
      "39.26385511914215\n",
      "../data/aerophoto/ortho_old/192/toshima100258\n",
      "27.24626034936482\n"
     ]
    },
    {
     "name": "stderr",
     "output_type": "stream",
     "text": [
      "\r",
      "291it [00:33,  8.33it/s]"
     ]
    },
    {
     "name": "stdout",
     "output_type": "stream",
     "text": [
      "../data/aerophoto/ortho_old/192/toshima100259\n",
      "22.06873427942118\n",
      "../data/aerophoto/ortho_old/192/toshima10026\n",
      "26.277346035427193\n"
     ]
    },
    {
     "name": "stderr",
     "output_type": "stream",
     "text": [
      "294it [00:34,  8.91it/s]"
     ]
    },
    {
     "name": "stdout",
     "output_type": "stream",
     "text": [
      "../data/aerophoto/ortho_old/192/toshima100260\n",
      "29.337228484861605\n",
      "../data/aerophoto/ortho_old/192/toshima100261\n",
      "45.66310230319711\n"
     ]
    },
    {
     "name": "stderr",
     "output_type": "stream",
     "text": [
      "297it [00:34,  9.78it/s]"
     ]
    },
    {
     "name": "stdout",
     "output_type": "stream",
     "text": [
      "../data/aerophoto/ortho_old/192/toshima100262\n",
      "36.31408719830725\n",
      "../data/aerophoto/ortho_old/192/toshima100263\n",
      "39.14628926346187\n",
      "../data/aerophoto/ortho_old/192/toshima100264\n",
      "32.722993890041025\n",
      "../data/aerophoto/ortho_old/192/toshima100265\n",
      "31.621690099749856\n"
     ]
    },
    {
     "name": "stderr",
     "output_type": "stream",
     "text": [
      "300it [00:34,  9.25it/s]"
     ]
    },
    {
     "name": "stdout",
     "output_type": "stream",
     "text": [
      "../data/aerophoto/ortho_old/192/toshima100266\n",
      "22.94980159013856\n",
      "../data/aerophoto/ortho_old/192/toshima100267\n",
      "34.143725484496514\n"
     ]
    },
    {
     "name": "stderr",
     "output_type": "stream",
     "text": [
      "\r",
      "301it [00:34,  9.10it/s]"
     ]
    },
    {
     "name": "stdout",
     "output_type": "stream",
     "text": [
      "../data/aerophoto/ortho_old/192/toshima100268\n",
      "36.880097184094225\n",
      "../data/aerophoto/ortho_old/192/toshima100269\n",
      "30.488992878502128\n"
     ]
    },
    {
     "name": "stderr",
     "output_type": "stream",
     "text": [
      "305it [00:35, 10.19it/s]"
     ]
    },
    {
     "name": "stdout",
     "output_type": "stream",
     "text": [
      "../data/aerophoto/ortho_old/192/toshima10027\n",
      "25.33535620525081\n",
      "../data/aerophoto/ortho_old/192/toshima100270\n",
      "33.65885719616757\n",
      "../data/aerophoto/ortho_old/192/toshima100271\n",
      "31.037751465089777\n"
     ]
    },
    {
     "name": "stderr",
     "output_type": "stream",
     "text": [
      "309it [00:35, 12.34it/s]"
     ]
    },
    {
     "name": "stdout",
     "output_type": "stream",
     "text": [
      "../data/aerophoto/ortho_old/192/toshima100272\n",
      "34.13778075517029\n",
      "../data/aerophoto/ortho_old/192/toshima100273\n",
      "42.90475738755404\n",
      "../data/aerophoto/ortho_old/192/toshima100274\n",
      "38.224706736981055\n",
      "../data/aerophoto/ortho_old/192/toshima100275\n"
     ]
    },
    {
     "name": "stderr",
     "output_type": "stream",
     "text": [
      "\r",
      "311it [00:35, 11.45it/s]"
     ]
    },
    {
     "name": "stdout",
     "output_type": "stream",
     "text": [
      "28.07923721560522\n",
      "../data/aerophoto/ortho_old/192/toshima100276\n",
      "34.98215041871375\n",
      "../data/aerophoto/ortho_old/192/toshima100277\n",
      "33.019724375018605\n"
     ]
    },
    {
     "name": "stderr",
     "output_type": "stream",
     "text": [
      "\r",
      "313it [00:36, 11.87it/s]"
     ]
    },
    {
     "name": "stdout",
     "output_type": "stream",
     "text": [
      "../data/aerophoto/ortho_old/192/toshima100278\n",
      "35.666088493177966\n",
      "../data/aerophoto/ortho_old/192/toshima100279\n",
      "21.9899799581359\n",
      "../data/aerophoto/ortho_old/192/toshima10028\n",
      "23.232134169408358\n"
     ]
    },
    {
     "name": "stderr",
     "output_type": "stream",
     "text": [
      "317it [00:36, 11.14it/s]"
     ]
    },
    {
     "name": "stdout",
     "output_type": "stream",
     "text": [
      "../data/aerophoto/ortho_old/192/toshima100280\n",
      "17.88891922429723\n",
      "../data/aerophoto/ortho_old/192/toshima100281\n",
      "21.001447062701306\n",
      "../data/aerophoto/ortho_old/192/toshima100282\n"
     ]
    },
    {
     "name": "stderr",
     "output_type": "stream",
     "text": [
      "\r",
      "319it [00:36, 10.55it/s]"
     ]
    },
    {
     "name": "stdout",
     "output_type": "stream",
     "text": [
      "34.242348948903334\n",
      "../data/aerophoto/ortho_old/192/toshima100283\n",
      "31.628618188851615\n",
      "../data/aerophoto/ortho_old/192/toshima100284\n",
      "28.258113180482532\n"
     ]
    },
    {
     "name": "stderr",
     "output_type": "stream",
     "text": [
      "\r",
      "321it [00:36, 10.36it/s]"
     ]
    },
    {
     "name": "stdout",
     "output_type": "stream",
     "text": [
      "../data/aerophoto/ortho_old/192/toshima100285\n",
      "26.402441735357158\n",
      "../data/aerophoto/ortho_old/192/toshima100286\n",
      "22.596139889788063\n"
     ]
    },
    {
     "name": "stderr",
     "output_type": "stream",
     "text": [
      "\r",
      "323it [00:36, 10.68it/s]"
     ]
    },
    {
     "name": "stdout",
     "output_type": "stream",
     "text": [
      "../data/aerophoto/ortho_old/192/toshima100287\n",
      "26.3306941383142\n",
      "../data/aerophoto/ortho_old/192/toshima100288\n",
      "17.46214775621652\n",
      "../data/aerophoto/ortho_old/192/toshima100289\n",
      "23.849675343150494\n"
     ]
    },
    {
     "name": "stderr",
     "output_type": "stream",
     "text": [
      "\r",
      "325it [00:37, 11.35it/s]"
     ]
    },
    {
     "name": "stdout",
     "output_type": "stream",
     "text": [
      "../data/aerophoto/ortho_old/192/toshima10029\n",
      "29.74524971509256\n",
      "../data/aerophoto/ortho_old/192/toshima100290\n",
      "17.86130408712786\n"
     ]
    },
    {
     "name": "stderr",
     "output_type": "stream",
     "text": [
      "329it [00:37, 10.72it/s]"
     ]
    },
    {
     "name": "stdout",
     "output_type": "stream",
     "text": [
      "../data/aerophoto/ortho_old/192/toshima100291\n",
      "32.26682631302228\n",
      "../data/aerophoto/ortho_old/192/toshima100292\n",
      "29.66286394161613\n",
      "../data/aerophoto/ortho_old/192/toshima100293\n",
      "22.454775243073158\n"
     ]
    },
    {
     "name": "stderr",
     "output_type": "stream",
     "text": [
      "\r",
      "331it [00:37, 11.38it/s]"
     ]
    },
    {
     "name": "stdout",
     "output_type": "stream",
     "text": [
      "../data/aerophoto/ortho_old/192/toshima100294\n",
      "27.759881903165763\n",
      "../data/aerophoto/ortho_old/192/toshima100295\n",
      "36.228894978541156\n",
      "../data/aerophoto/ortho_old/192/toshima100296\n",
      "35.07761419726762\n"
     ]
    },
    {
     "name": "stderr",
     "output_type": "stream",
     "text": [
      "\r",
      "333it [00:37, 12.03it/s]"
     ]
    },
    {
     "name": "stdout",
     "output_type": "stream",
     "text": [
      "../data/aerophoto/ortho_old/192/toshima100297\n",
      "29.961821679888306\n",
      "../data/aerophoto/ortho_old/192/toshima100298\n",
      "33.8939906886546\n"
     ]
    },
    {
     "name": "stderr",
     "output_type": "stream",
     "text": [
      "\r",
      "335it [00:38,  9.95it/s]"
     ]
    },
    {
     "name": "stdout",
     "output_type": "stream",
     "text": [
      "../data/aerophoto/ortho_old/192/toshima100299\n",
      "26.270912298475025\n",
      "../data/aerophoto/ortho_old/192/toshima1003\n",
      "33.64792835153078\n"
     ]
    },
    {
     "name": "stderr",
     "output_type": "stream",
     "text": [
      "338it [00:38,  8.80it/s]"
     ]
    },
    {
     "name": "stdout",
     "output_type": "stream",
     "text": [
      "../data/aerophoto/ortho_old/192/toshima10030\n",
      "31.599249186954044\n",
      "../data/aerophoto/ortho_old/192/toshima100300\n",
      "27.61495626019487\n"
     ]
    },
    {
     "name": "stderr",
     "output_type": "stream",
     "text": [
      "341it [00:38,  9.79it/s]"
     ]
    },
    {
     "name": "stdout",
     "output_type": "stream",
     "text": [
      "../data/aerophoto/ortho_old/192/toshima100301\n",
      "33.87023846771263\n",
      "../data/aerophoto/ortho_old/192/toshima100302\n",
      "32.90225015696341\n",
      "../data/aerophoto/ortho_old/192/toshima100303\n",
      "38.75113663043434\n"
     ]
    },
    {
     "name": "stderr",
     "output_type": "stream",
     "text": [
      "\r",
      "343it [00:39,  9.21it/s]"
     ]
    },
    {
     "name": "stdout",
     "output_type": "stream",
     "text": [
      "../data/aerophoto/ortho_old/192/toshima100304\n",
      "35.188857101204604\n",
      "../data/aerophoto/ortho_old/192/toshima100305\n",
      "52.713057161703894\n",
      "../data/aerophoto/ortho_old/192/toshima100306\n",
      "47.66698472361591\n"
     ]
    },
    {
     "name": "stderr",
     "output_type": "stream",
     "text": [
      "347it [00:39, 10.38it/s]"
     ]
    },
    {
     "name": "stdout",
     "output_type": "stream",
     "text": [
      "../data/aerophoto/ortho_old/192/toshima100307\n",
      "38.84254695661431\n",
      "../data/aerophoto/ortho_old/192/toshima100308\n",
      "31.72418784498816\n",
      "../data/aerophoto/ortho_old/192/toshima100309\n"
     ]
    },
    {
     "name": "stderr",
     "output_type": "stream",
     "text": [
      "\r",
      "349it [00:39, 10.36it/s]"
     ]
    },
    {
     "name": "stdout",
     "output_type": "stream",
     "text": [
      "33.310432711363276\n",
      "../data/aerophoto/ortho_old/192/toshima10031\n",
      "34.17997348502854\n",
      "../data/aerophoto/ortho_old/192/toshima100310\n",
      "20.29579125301128\n"
     ]
    },
    {
     "name": "stderr",
     "output_type": "stream",
     "text": [
      "\r",
      "351it [00:39, 10.34it/s]"
     ]
    },
    {
     "name": "stdout",
     "output_type": "stream",
     "text": [
      "../data/aerophoto/ortho_old/192/toshima100311\n",
      "36.16034682361351\n",
      "../data/aerophoto/ortho_old/192/toshima100312\n",
      "26.928372155972596\n",
      "../data/aerophoto/ortho_old/192/toshima100313\n",
      "37.76186370257278\n"
     ]
    },
    {
     "name": "stderr",
     "output_type": "stream",
     "text": [
      "355it [00:40, 11.71it/s]"
     ]
    },
    {
     "name": "stdout",
     "output_type": "stream",
     "text": [
      "../data/aerophoto/ortho_old/192/toshima100314\n",
      "37.994410473672225\n",
      "../data/aerophoto/ortho_old/192/toshima100315\n",
      "33.41294217701735\n",
      "../data/aerophoto/ortho_old/192/toshima100316\n",
      "27.998854076595638\n"
     ]
    },
    {
     "name": "stderr",
     "output_type": "stream",
     "text": [
      "\r",
      "357it [00:40, 12.24it/s]"
     ]
    },
    {
     "name": "stdout",
     "output_type": "stream",
     "text": [
      "../data/aerophoto/ortho_old/192/toshima100317\n",
      "32.49817731757987\n",
      "../data/aerophoto/ortho_old/192/toshima100318\n",
      "40.799067379829886\n",
      "../data/aerophoto/ortho_old/192/toshima100319\n"
     ]
    },
    {
     "name": "stderr",
     "output_type": "stream",
     "text": [
      "\r",
      "359it [00:40, 10.96it/s]"
     ]
    },
    {
     "name": "stdout",
     "output_type": "stream",
     "text": [
      "35.658170947743365\n",
      "../data/aerophoto/ortho_old/192/toshima10032\n",
      "40.8366377937466\n",
      "../data/aerophoto/ortho_old/192/toshima100320\n"
     ]
    },
    {
     "name": "stderr",
     "output_type": "stream",
     "text": [
      "\r",
      "361it [00:40, 11.19it/s]"
     ]
    },
    {
     "name": "stdout",
     "output_type": "stream",
     "text": [
      "29.100188790698954\n",
      "../data/aerophoto/ortho_old/192/toshima100321\n",
      "32.4379540901426\n",
      "../data/aerophoto/ortho_old/192/toshima100322\n"
     ]
    },
    {
     "name": "stderr",
     "output_type": "stream",
     "text": [
      "\r",
      "363it [00:40, 10.46it/s]"
     ]
    },
    {
     "name": "stdout",
     "output_type": "stream",
     "text": [
      "26.083403062942445\n",
      "../data/aerophoto/ortho_old/192/toshima100323\n",
      "34.2383332674085\n"
     ]
    },
    {
     "name": "stderr",
     "output_type": "stream",
     "text": [
      "\r",
      "365it [00:41,  9.75it/s]"
     ]
    },
    {
     "name": "stdout",
     "output_type": "stream",
     "text": [
      "../data/aerophoto/ortho_old/192/toshima100324\n",
      "26.574728315629464\n",
      "../data/aerophoto/ortho_old/192/toshima100325\n",
      "35.561186977724546\n",
      "../data/aerophoto/ortho_old/192/toshima100326\n",
      "33.31874629952616\n"
     ]
    },
    {
     "name": "stderr",
     "output_type": "stream",
     "text": [
      "368it [00:41,  9.51it/s]"
     ]
    },
    {
     "name": "stdout",
     "output_type": "stream",
     "text": [
      "../data/aerophoto/ortho_old/192/toshima100327\n",
      "38.07053215456917\n",
      "../data/aerophoto/ortho_old/192/toshima100328\n",
      "34.289294713108326\n"
     ]
    },
    {
     "name": "stderr",
     "output_type": "stream",
     "text": [
      "370it [00:41,  9.00it/s]"
     ]
    },
    {
     "name": "stdout",
     "output_type": "stream",
     "text": [
      "../data/aerophoto/ortho_old/192/toshima100329\n",
      "29.602460325210426\n",
      "../data/aerophoto/ortho_old/192/toshima10033\n",
      "48.0741757456784\n"
     ]
    },
    {
     "name": "stderr",
     "output_type": "stream",
     "text": [
      "373it [00:41,  9.98it/s]"
     ]
    },
    {
     "name": "stdout",
     "output_type": "stream",
     "text": [
      "../data/aerophoto/ortho_old/192/toshima100330\n",
      "30.67086799449075\n",
      "../data/aerophoto/ortho_old/192/toshima100331\n",
      "27.560704942468185\n",
      "../data/aerophoto/ortho_old/192/toshima100332\n",
      "24.083759518137374\n"
     ]
    },
    {
     "name": "stderr",
     "output_type": "stream",
     "text": [
      "\r",
      "375it [00:42, 10.44it/s]"
     ]
    },
    {
     "name": "stdout",
     "output_type": "stream",
     "text": [
      "../data/aerophoto/ortho_old/192/toshima100333\n",
      "28.547526462513943\n",
      "../data/aerophoto/ortho_old/192/toshima100334\n",
      "40.775063704497384\n"
     ]
    },
    {
     "name": "stderr",
     "output_type": "stream",
     "text": [
      "\r",
      "377it [00:42,  9.43it/s]"
     ]
    },
    {
     "name": "stdout",
     "output_type": "stream",
     "text": [
      "../data/aerophoto/ortho_old/192/toshima100335\n",
      "42.62705556606664\n",
      "../data/aerophoto/ortho_old/192/toshima100336\n",
      "42.818230084480305\n"
     ]
    },
    {
     "name": "stderr",
     "output_type": "stream",
     "text": [
      "379it [00:42,  8.78it/s]"
     ]
    },
    {
     "name": "stdout",
     "output_type": "stream",
     "text": [
      "../data/aerophoto/ortho_old/192/toshima100337\n",
      "25.34585888751644\n",
      "../data/aerophoto/ortho_old/192/toshima100338\n",
      "33.971426141064406\n"
     ]
    },
    {
     "name": "stderr",
     "output_type": "stream",
     "text": [
      "381it [00:42,  8.72it/s]"
     ]
    },
    {
     "name": "stdout",
     "output_type": "stream",
     "text": [
      "../data/aerophoto/ortho_old/192/toshima100339\n",
      "38.019352582658534\n",
      "../data/aerophoto/ortho_old/192/toshima10034\n",
      "38.14832635858971\n"
     ]
    },
    {
     "name": "stderr",
     "output_type": "stream",
     "text": [
      "\r",
      "383it [00:43,  9.28it/s]"
     ]
    },
    {
     "name": "stdout",
     "output_type": "stream",
     "text": [
      "../data/aerophoto/ortho_old/192/toshima100340\n",
      "48.17527874360613\n",
      "../data/aerophoto/ortho_old/192/toshima100341\n",
      "27.812810631417708\n",
      "../data/aerophoto/ortho_old/192/toshima100342\n"
     ]
    },
    {
     "name": "stderr",
     "output_type": "stream",
     "text": [
      "\r",
      "385it [00:43, 10.37it/s]"
     ]
    },
    {
     "name": "stdout",
     "output_type": "stream",
     "text": [
      "30.647361250099248\n",
      "../data/aerophoto/ortho_old/192/toshima100343\n",
      "32.98674515809882\n",
      "../data/aerophoto/ortho_old/192/toshima100344\n",
      "39.02285402961282\n"
     ]
    },
    {
     "name": "stderr",
     "output_type": "stream",
     "text": [
      "388it [00:43,  9.20it/s]"
     ]
    },
    {
     "name": "stdout",
     "output_type": "stream",
     "text": [
      "../data/aerophoto/ortho_old/192/toshima100345\n",
      "36.9534498374751\n",
      "../data/aerophoto/ortho_old/192/toshima100346\n",
      "40.75155941011658\n"
     ]
    },
    {
     "name": "stderr",
     "output_type": "stream",
     "text": [
      "\r",
      "390it [00:43,  9.90it/s]"
     ]
    },
    {
     "name": "stdout",
     "output_type": "stream",
     "text": [
      "../data/aerophoto/ortho_old/192/toshima100347\n",
      "26.49202197506314\n",
      "../data/aerophoto/ortho_old/192/toshima100348\n",
      "44.68826511745232\n",
      "../data/aerophoto/ortho_old/192/toshima100349\n",
      "54.548787406964486\n"
     ]
    },
    {
     "name": "stderr",
     "output_type": "stream",
     "text": [
      "394it [00:43, 11.69it/s]"
     ]
    },
    {
     "name": "stdout",
     "output_type": "stream",
     "text": [
      "../data/aerophoto/ortho_old/192/toshima10035\n",
      "33.38328471371611\n",
      "../data/aerophoto/ortho_old/192/toshima100350\n",
      "39.822120085884194\n",
      "../data/aerophoto/ortho_old/192/toshima100351\n",
      "33.29052603357984\n"
     ]
    },
    {
     "name": "stderr",
     "output_type": "stream",
     "text": [
      "\r",
      "396it [00:44, 11.22it/s]"
     ]
    },
    {
     "name": "stdout",
     "output_type": "stream",
     "text": [
      "../data/aerophoto/ortho_old/192/toshima100352\n",
      "37.19472678280754\n",
      "../data/aerophoto/ortho_old/192/toshima100353\n",
      "33.025240816682384\n",
      "../data/aerophoto/ortho_old/192/toshima100354\n",
      "28.17635534285796\n"
     ]
    },
    {
     "name": "stderr",
     "output_type": "stream",
     "text": [
      "\r",
      "398it [00:44, 11.71it/s]"
     ]
    },
    {
     "name": "stdout",
     "output_type": "stream",
     "text": [
      "../data/aerophoto/ortho_old/192/toshima100355\n",
      "34.9716351135497\n",
      "../data/aerophoto/ortho_old/192/toshima100356\n"
     ]
    },
    {
     "name": "stderr",
     "output_type": "stream",
     "text": [
      "\r",
      "400it [00:44, 10.13it/s]"
     ]
    },
    {
     "name": "stdout",
     "output_type": "stream",
     "text": [
      "29.392690711528957\n",
      "../data/aerophoto/ortho_old/192/toshima100357\n",
      "23.835502717539995\n",
      "../data/aerophoto/ortho_old/192/toshima100358\n"
     ]
    },
    {
     "name": "stderr",
     "output_type": "stream",
     "text": [
      "\r",
      "402it [00:44,  9.34it/s]"
     ]
    },
    {
     "name": "stdout",
     "output_type": "stream",
     "text": [
      "35.381453322052394\n",
      "../data/aerophoto/ortho_old/192/toshima100359\n",
      "32.41573717008478\n"
     ]
    },
    {
     "name": "stderr",
     "output_type": "stream",
     "text": [
      "405it [00:45,  9.32it/s]"
     ]
    },
    {
     "name": "stdout",
     "output_type": "stream",
     "text": [
      "../data/aerophoto/ortho_old/192/toshima10036\n",
      "19.836254799659248\n",
      "../data/aerophoto/ortho_old/192/toshima100360\n",
      "26.319878274845024\n",
      "../data/aerophoto/ortho_old/192/toshima100361\n"
     ]
    },
    {
     "name": "stderr",
     "output_type": "stream",
     "text": [
      "\r",
      "406it [00:45,  8.81it/s]"
     ]
    },
    {
     "name": "stdout",
     "output_type": "stream",
     "text": [
      "27.254568258883825\n",
      "../data/aerophoto/ortho_old/192/toshima100362\n",
      "31.645765653366915\n"
     ]
    },
    {
     "name": "stderr",
     "output_type": "stream",
     "text": [
      "408it [00:45,  8.49it/s]"
     ]
    },
    {
     "name": "stdout",
     "output_type": "stream",
     "text": [
      "../data/aerophoto/ortho_old/192/toshima100363\n",
      "28.179779744230075\n",
      "../data/aerophoto/ortho_old/192/toshima100364\n",
      "23.20306972613275\n"
     ]
    },
    {
     "name": "stderr",
     "output_type": "stream",
     "text": [
      "\r",
      "410it [00:45,  8.68it/s]"
     ]
    },
    {
     "name": "stdout",
     "output_type": "stream",
     "text": [
      "../data/aerophoto/ortho_old/192/toshima100365\n",
      "18.365295703693047\n",
      "../data/aerophoto/ortho_old/192/toshima100366\n",
      "20.925306951993267\n"
     ]
    },
    {
     "name": "stderr",
     "output_type": "stream",
     "text": [
      "412it [00:46,  7.43it/s]"
     ]
    },
    {
     "name": "stdout",
     "output_type": "stream",
     "text": [
      "../data/aerophoto/ortho_old/192/toshima100367\n",
      "22.094105657757943\n",
      "../data/aerophoto/ortho_old/192/toshima100368\n",
      "30.093270647631588\n"
     ]
    },
    {
     "name": "stderr",
     "output_type": "stream",
     "text": [
      "\r",
      "414it [00:46,  8.48it/s]"
     ]
    },
    {
     "name": "stdout",
     "output_type": "stream",
     "text": [
      "../data/aerophoto/ortho_old/192/toshima100369\n",
      "13.756122451387657\n",
      "../data/aerophoto/ortho_old/192/toshima10037\n",
      "24.467959607366407\n",
      "../data/aerophoto/ortho_old/192/toshima100370\n",
      "23.8240594620748\n"
     ]
    },
    {
     "name": "stderr",
     "output_type": "stream",
     "text": [
      "418it [00:46, 11.04it/s]"
     ]
    },
    {
     "name": "stdout",
     "output_type": "stream",
     "text": [
      "../data/aerophoto/ortho_old/192/toshima100371\n",
      "23.204078300216604\n",
      "../data/aerophoto/ortho_old/192/toshima100372\n",
      "25.31782374452563\n",
      "../data/aerophoto/ortho_old/192/toshima100373\n",
      "18.547297336869285\n",
      "../data/aerophoto/ortho_old/192/toshima100374\n"
     ]
    },
    {
     "name": "stderr",
     "output_type": "stream",
     "text": [
      "\r",
      "420it [00:46, 10.91it/s]"
     ]
    },
    {
     "name": "stdout",
     "output_type": "stream",
     "text": [
      "17.4571844786024\n",
      "../data/aerophoto/ortho_old/192/toshima100375\n",
      "17.856033882265475\n",
      "../data/aerophoto/ortho_old/192/toshima100376\n",
      "21.241273436206626\n"
     ]
    },
    {
     "name": "stderr",
     "output_type": "stream",
     "text": [
      "424it [00:47, 11.75it/s]"
     ]
    },
    {
     "name": "stdout",
     "output_type": "stream",
     "text": [
      "../data/aerophoto/ortho_old/192/toshima100377\n",
      "21.54749953307969\n",
      "../data/aerophoto/ortho_old/192/toshima100378\n",
      "22.30965248991105\n",
      "../data/aerophoto/ortho_old/192/toshima100379\n",
      "31.30956025383562\n",
      "../data/aerophoto/ortho_old/192/toshima10038\n",
      "23.97659171380043\n"
     ]
    },
    {
     "name": "stderr",
     "output_type": "stream",
     "text": [
      "\r",
      "427it [00:47, 13.44it/s]"
     ]
    },
    {
     "name": "stdout",
     "output_type": "stream",
     "text": [
      "../data/aerophoto/ortho_old/192/toshima100380\n",
      "24.676203207712852\n",
      "../data/aerophoto/ortho_old/192/toshima100381\n",
      "23.434685977225588\n"
     ]
    },
    {
     "name": "stderr",
     "output_type": "stream",
     "text": [
      "\r",
      "429it [00:47, 12.44it/s]"
     ]
    },
    {
     "name": "stdout",
     "output_type": "stream",
     "text": [
      "../data/aerophoto/ortho_old/192/toshima100382\n",
      "23.98926296251591\n",
      "../data/aerophoto/ortho_old/192/toshima100383\n",
      "22.03010514028926\n",
      "../data/aerophoto/ortho_old/192/toshima100384\n",
      "18.956272110841105\n"
     ]
    },
    {
     "name": "stderr",
     "output_type": "stream",
     "text": [
      "\r",
      "431it [00:47, 12.07it/s]"
     ]
    },
    {
     "name": "stdout",
     "output_type": "stream",
     "text": [
      "../data/aerophoto/ortho_old/192/toshima100385\n",
      "20.85644708856357\n",
      "../data/aerophoto/ortho_old/192/toshima100386\n",
      "24.430364187680347\n"
     ]
    },
    {
     "name": "stderr",
     "output_type": "stream",
     "text": [
      "435it [00:47, 12.39it/s]"
     ]
    },
    {
     "name": "stdout",
     "output_type": "stream",
     "text": [
      "../data/aerophoto/ortho_old/192/toshima100387\n",
      "21.72743427285882\n",
      "../data/aerophoto/ortho_old/192/toshima100388\n",
      "33.269136390486146\n",
      "../data/aerophoto/ortho_old/192/toshima100389\n",
      "30.091409826165982\n",
      "../data/aerophoto/ortho_old/192/toshima10039\n",
      "36.11739965907326\n"
     ]
    },
    {
     "name": "stderr",
     "output_type": "stream",
     "text": [
      "439it [00:48, 12.63it/s]"
     ]
    },
    {
     "name": "stdout",
     "output_type": "stream",
     "text": [
      "../data/aerophoto/ortho_old/192/toshima100390\n",
      "23.671548734902967\n",
      "../data/aerophoto/ortho_old/192/toshima100391\n",
      "21.257402327436132\n",
      "../data/aerophoto/ortho_old/192/toshima100392\n"
     ]
    },
    {
     "name": "stderr",
     "output_type": "stream",
     "text": [
      "\r",
      "441it [00:48, 12.12it/s]"
     ]
    },
    {
     "name": "stdout",
     "output_type": "stream",
     "text": [
      "18.76438353020839\n",
      "../data/aerophoto/ortho_old/192/toshima100393\n",
      "18.24919643527272\n",
      "../data/aerophoto/ortho_old/192/toshima100394\n",
      "24.27627942054567\n"
     ]
    },
    {
     "name": "stderr",
     "output_type": "stream",
     "text": [
      "\r",
      "443it [00:48, 12.35it/s]"
     ]
    },
    {
     "name": "stdout",
     "output_type": "stream",
     "text": [
      "../data/aerophoto/ortho_old/192/toshima100395\n",
      "22.58598037042395\n",
      "../data/aerophoto/ortho_old/192/toshima100396\n",
      "33.334925684392\n",
      "../data/aerophoto/ortho_old/192/toshima100397\n",
      "25.300910533076483\n"
     ]
    },
    {
     "name": "stderr",
     "output_type": "stream",
     "text": [
      "447it [00:48, 12.32it/s]"
     ]
    },
    {
     "name": "stdout",
     "output_type": "stream",
     "text": [
      "../data/aerophoto/ortho_old/192/toshima100398\n",
      "35.00808480764601\n",
      "../data/aerophoto/ortho_old/192/toshima100399\n",
      "39.95353341635129\n",
      "../data/aerophoto/ortho_old/192/toshima1004\n",
      "36.82270420874706\n"
     ]
    },
    {
     "name": "stderr",
     "output_type": "stream",
     "text": [
      "\r",
      "449it [00:49, 12.98it/s]"
     ]
    },
    {
     "name": "stdout",
     "output_type": "stream",
     "text": [
      "../data/aerophoto/ortho_old/192/toshima10040\n",
      "29.04699969982313\n",
      "../data/aerophoto/ortho_old/192/toshima100400\n",
      "29.525892373389617\n",
      "../data/aerophoto/ortho_old/192/toshima100401\n",
      "23.87638739246807\n"
     ]
    },
    {
     "name": "stderr",
     "output_type": "stream",
     "text": [
      "453it [00:49, 12.47it/s]"
     ]
    },
    {
     "name": "stdout",
     "output_type": "stream",
     "text": [
      "../data/aerophoto/ortho_old/192/toshima100402\n",
      "19.53055761559342\n",
      "../data/aerophoto/ortho_old/192/toshima100403\n",
      "40.01688101935773\n",
      "../data/aerophoto/ortho_old/192/toshima100404\n",
      "28.81079540545983\n"
     ]
    },
    {
     "name": "stderr",
     "output_type": "stream",
     "text": [
      "\r",
      "455it [00:49, 12.37it/s]"
     ]
    },
    {
     "name": "stdout",
     "output_type": "stream",
     "text": [
      "../data/aerophoto/ortho_old/192/toshima100405\n",
      "29.72334905946523\n",
      "../data/aerophoto/ortho_old/192/toshima100406\n",
      "22.599805023152754\n",
      "../data/aerophoto/ortho_old/192/toshima100407\n",
      "24.103644686070897\n"
     ]
    },
    {
     "name": "stderr",
     "output_type": "stream",
     "text": [
      "\r",
      "457it [00:49, 13.06it/s]"
     ]
    },
    {
     "name": "stdout",
     "output_type": "stream",
     "text": [
      "../data/aerophoto/ortho_old/192/toshima100408\n",
      "24.725775903511312\n",
      "../data/aerophoto/ortho_old/192/toshima100409\n",
      "15.184790836377674\n"
     ]
    },
    {
     "name": "stderr",
     "output_type": "stream",
     "text": [
      "461it [00:50, 12.74it/s]"
     ]
    },
    {
     "name": "stdout",
     "output_type": "stream",
     "text": [
      "../data/aerophoto/ortho_old/192/toshima10041\n",
      "32.7238655573886\n",
      "../data/aerophoto/ortho_old/192/toshima100410\n",
      "15.185918760882682\n",
      "../data/aerophoto/ortho_old/192/toshima100411\n",
      "15.90181301092186\n"
     ]
    },
    {
     "name": "stderr",
     "output_type": "stream",
     "text": [
      "465it [00:50, 13.64it/s]"
     ]
    },
    {
     "name": "stdout",
     "output_type": "stream",
     "text": [
      "../data/aerophoto/ortho_old/192/toshima100412\n",
      "18.084677369407384\n",
      "../data/aerophoto/ortho_old/192/toshima100413\n",
      "18.54553076718786\n",
      "../data/aerophoto/ortho_old/192/toshima100414\n",
      "26.970285180724655\n",
      "../data/aerophoto/ortho_old/192/toshima100415\n"
     ]
    },
    {
     "name": "stderr",
     "output_type": "stream",
     "text": [
      "\r",
      "467it [00:50, 14.76it/s]"
     ]
    },
    {
     "name": "stdout",
     "output_type": "stream",
     "text": [
      "31.964594695829437\n",
      "../data/aerophoto/ortho_old/192/toshima100416\n",
      "17.470538411462282\n",
      "../data/aerophoto/ortho_old/192/toshima100417\n",
      "39.55819382484534\n",
      "../data/aerophoto/ortho_old/192/toshima100418\n"
     ]
    },
    {
     "name": "stderr",
     "output_type": "stream",
     "text": [
      "\r",
      "469it [00:50, 11.73it/s]"
     ]
    },
    {
     "name": "stdout",
     "output_type": "stream",
     "text": [
      "39.86903502560963\n",
      "../data/aerophoto/ortho_old/192/toshima100419\n",
      "32.62229944962629\n"
     ]
    },
    {
     "name": "stderr",
     "output_type": "stream",
     "text": [
      "474it [00:50, 14.55it/s]"
     ]
    },
    {
     "name": "stdout",
     "output_type": "stream",
     "text": [
      "../data/aerophoto/ortho_old/192/toshima10042\n",
      "28.37854254259152\n",
      "../data/aerophoto/ortho_old/192/toshima100420\n",
      "30.263600202534242\n",
      "../data/aerophoto/ortho_old/192/toshima100421\n",
      "26.41982827361537\n",
      "../data/aerophoto/ortho_old/192/toshima100422\n",
      "26.04945959914867\n",
      "../data/aerophoto/ortho_old/192/toshima100423\n"
     ]
    },
    {
     "name": "stderr",
     "output_type": "stream",
     "text": [
      "\r",
      "476it [00:51, 14.18it/s]"
     ]
    },
    {
     "name": "stdout",
     "output_type": "stream",
     "text": [
      "30.560621180721554\n",
      "../data/aerophoto/ortho_old/192/toshima100424\n",
      "31.400306415371855\n",
      "../data/aerophoto/ortho_old/192/toshima100425\n",
      "56.13426485866149\n",
      "../data/aerophoto/ortho_old/192/toshima100426\n",
      "36.46208885244952\n"
     ]
    },
    {
     "name": "stderr",
     "output_type": "stream",
     "text": [
      "480it [00:51, 13.70it/s]"
     ]
    },
    {
     "name": "stdout",
     "output_type": "stream",
     "text": [
      "../data/aerophoto/ortho_old/192/toshima100427\n",
      "33.65118701822747\n",
      "../data/aerophoto/ortho_old/192/toshima100428\n",
      "31.785357967817735\n",
      "../data/aerophoto/ortho_old/192/toshima100429\n",
      "33.537497465728364\n"
     ]
    },
    {
     "name": "stderr",
     "output_type": "stream",
     "text": [
      "\r",
      "482it [00:51, 13.73it/s]"
     ]
    },
    {
     "name": "stdout",
     "output_type": "stream",
     "text": [
      "../data/aerophoto/ortho_old/192/toshima10043\n",
      "27.906056670813697\n",
      "../data/aerophoto/ortho_old/192/toshima100430\n",
      "28.072832238968036\n"
     ]
    },
    {
     "name": "stderr",
     "output_type": "stream",
     "text": [
      "\r",
      "484it [00:51, 12.72it/s]"
     ]
    },
    {
     "name": "stdout",
     "output_type": "stream",
     "text": [
      "../data/aerophoto/ortho_old/192/toshima100431\n",
      "34.50271273784888\n",
      "../data/aerophoto/ortho_old/192/toshima100432\n",
      "31.09477593131077\n",
      "../data/aerophoto/ortho_old/192/toshima100433\n",
      "35.48003082250522\n"
     ]
    },
    {
     "name": "stderr",
     "output_type": "stream",
     "text": [
      "488it [00:52, 14.38it/s]"
     ]
    },
    {
     "name": "stdout",
     "output_type": "stream",
     "text": [
      "../data/aerophoto/ortho_old/192/toshima100434\n",
      "33.10203635344525\n",
      "../data/aerophoto/ortho_old/192/toshima100435\n",
      "32.3754304707829\n",
      "../data/aerophoto/ortho_old/192/toshima100436\n",
      "26.760966001173575\n",
      "../data/aerophoto/ortho_old/192/toshima100437\n",
      "30.896012038722624\n"
     ]
    },
    {
     "name": "stderr",
     "output_type": "stream",
     "text": [
      "492it [00:52, 15.90it/s]"
     ]
    },
    {
     "name": "stdout",
     "output_type": "stream",
     "text": [
      "../data/aerophoto/ortho_old/192/toshima100438\n",
      "40.08728097942575\n",
      "../data/aerophoto/ortho_old/192/toshima100439\n",
      "36.18675556030518\n",
      "../data/aerophoto/ortho_old/192/toshima10044\n",
      "34.38276706444675\n",
      "../data/aerophoto/ortho_old/192/toshima100440\n",
      "32.20273293810131\n"
     ]
    },
    {
     "name": "stderr",
     "output_type": "stream",
     "text": [
      "496it [00:52, 16.92it/s]"
     ]
    },
    {
     "name": "stdout",
     "output_type": "stream",
     "text": [
      "../data/aerophoto/ortho_old/192/toshima100441\n",
      "30.27145199459064\n",
      "../data/aerophoto/ortho_old/192/toshima100442\n",
      "27.430155752020642\n",
      "../data/aerophoto/ortho_old/192/toshima100443\n",
      "23.63243524604822\n",
      "../data/aerophoto/ortho_old/192/toshima100444\n",
      "59.88690614490111\n",
      "../data/aerophoto/ortho_old/192/toshima100445\n"
     ]
    },
    {
     "name": "stderr",
     "output_type": "stream",
     "text": [
      "502it [00:52, 18.94it/s]"
     ]
    },
    {
     "name": "stdout",
     "output_type": "stream",
     "text": [
      "16.09152107799997\n",
      "../data/aerophoto/ortho_old/192/toshima100446\n",
      "34.565884428152074\n",
      "../data/aerophoto/ortho_old/192/toshima100447\n",
      "42.508051062134946\n",
      "../data/aerophoto/ortho_old/192/toshima100448\n",
      "24.439139450988662\n",
      "../data/aerophoto/ortho_old/192/toshima100449\n",
      "39.44886817615769\n"
     ]
    },
    {
     "name": "stderr",
     "output_type": "stream",
     "text": [
      "507it [00:52, 20.78it/s]"
     ]
    },
    {
     "name": "stdout",
     "output_type": "stream",
     "text": [
      "../data/aerophoto/ortho_old/192/toshima10045\n",
      "25.317487493334976\n",
      "../data/aerophoto/ortho_old/192/toshima100450\n",
      "40.842305045469885\n",
      "../data/aerophoto/ortho_old/192/toshima100451\n",
      "25.204602991094276\n",
      "../data/aerophoto/ortho_old/192/toshima100452\n",
      "29.18930745179936\n",
      "../data/aerophoto/ortho_old/192/toshima100453\n",
      "27.11839860821818\n",
      "../data/aerophoto/ortho_old/192/toshima100454\n",
      "36.59323037891721\n"
     ]
    },
    {
     "name": "stderr",
     "output_type": "stream",
     "text": [
      "\r",
      "510it [00:53, 21.21it/s]"
     ]
    },
    {
     "name": "stdout",
     "output_type": "stream",
     "text": [
      "../data/aerophoto/ortho_old/192/toshima100455\n",
      "23.053714418152847\n",
      "../data/aerophoto/ortho_old/192/toshima100456\n",
      "38.44382688106322\n",
      "../data/aerophoto/ortho_old/192/toshima100457\n",
      "29.324350198839554\n",
      "../data/aerophoto/ortho_old/192/toshima100458\n",
      "23.41767129158367\n"
     ]
    },
    {
     "name": "stderr",
     "output_type": "stream",
     "text": [
      "515it [00:53, 17.81it/s]"
     ]
    },
    {
     "name": "stdout",
     "output_type": "stream",
     "text": [
      "../data/aerophoto/ortho_old/192/toshima100459\n",
      "27.619986510924566\n",
      "../data/aerophoto/ortho_old/192/toshima10046\n",
      "17.75485969347668\n",
      "../data/aerophoto/ortho_old/192/toshima100460\n",
      "22.987333785895686\n",
      "../data/aerophoto/ortho_old/192/toshima100461\n",
      "24.7368719542205\n"
     ]
    },
    {
     "name": "stderr",
     "output_type": "stream",
     "text": [
      "\r",
      "518it [00:53, 19.34it/s]"
     ]
    },
    {
     "name": "stdout",
     "output_type": "stream",
     "text": [
      "../data/aerophoto/ortho_old/192/toshima100462\n",
      "18.970349734278376\n",
      "../data/aerophoto/ortho_old/192/toshima100463\n",
      "18.43770747993697\n",
      "../data/aerophoto/ortho_old/192/toshima100464\n",
      "25.993192287841676\n",
      "../data/aerophoto/ortho_old/192/toshima100465\n",
      "29.869464572562737\n"
     ]
    },
    {
     "name": "stderr",
     "output_type": "stream",
     "text": [
      "523it [00:53, 16.57it/s]"
     ]
    },
    {
     "name": "stdout",
     "output_type": "stream",
     "text": [
      "../data/aerophoto/ortho_old/192/toshima100466\n",
      "26.7319319870984\n",
      "../data/aerophoto/ortho_old/192/toshima100467\n",
      "24.08556909122082\n",
      "../data/aerophoto/ortho_old/192/toshima100468\n",
      "35.44787379921524\n"
     ]
    },
    {
     "name": "stderr",
     "output_type": "stream",
     "text": [
      "\r",
      "525it [00:54, 15.48it/s]"
     ]
    },
    {
     "name": "stdout",
     "output_type": "stream",
     "text": [
      "../data/aerophoto/ortho_old/192/toshima100469\n",
      "26.082918040075196\n",
      "../data/aerophoto/ortho_old/192/toshima10047\n",
      "34.45743974792411\n",
      "../data/aerophoto/ortho_old/192/toshima100470\n",
      "22.860505238716105\n"
     ]
    },
    {
     "name": "stderr",
     "output_type": "stream",
     "text": [
      "529it [00:54, 13.84it/s]"
     ]
    },
    {
     "name": "stdout",
     "output_type": "stream",
     "text": [
      "../data/aerophoto/ortho_old/192/toshima100471\n",
      "29.453979380895795\n",
      "../data/aerophoto/ortho_old/192/toshima100472\n",
      "21.902291007495496\n",
      "../data/aerophoto/ortho_old/192/toshima100473\n",
      "32.75385087255258\n"
     ]
    },
    {
     "name": "stderr",
     "output_type": "stream",
     "text": [
      "\r",
      "532it [00:54, 15.96it/s]"
     ]
    },
    {
     "name": "stdout",
     "output_type": "stream",
     "text": [
      "../data/aerophoto/ortho_old/192/toshima100474\n",
      "27.912512067917916\n",
      "../data/aerophoto/ortho_old/192/toshima100475\n",
      "25.7934210565518\n",
      "../data/aerophoto/ortho_old/192/toshima100476\n",
      "31.197980716931035\n",
      "../data/aerophoto/ortho_old/192/toshima100477\n",
      "28.64527578359984\n"
     ]
    },
    {
     "name": "stderr",
     "output_type": "stream",
     "text": [
      "536it [00:54, 15.70it/s]"
     ]
    },
    {
     "name": "stdout",
     "output_type": "stream",
     "text": [
      "../data/aerophoto/ortho_old/192/toshima100478\n",
      "28.642748964448256\n",
      "../data/aerophoto/ortho_old/192/toshima100479\n",
      "26.0057025982745\n",
      "../data/aerophoto/ortho_old/192/toshima10048\n",
      "31.63509018393337\n"
     ]
    },
    {
     "name": "stderr",
     "output_type": "stream",
     "text": [
      "541it [00:55, 18.37it/s]"
     ]
    },
    {
     "name": "stdout",
     "output_type": "stream",
     "text": [
      "../data/aerophoto/ortho_old/192/toshima100480\n",
      "29.30603541668016\n",
      "../data/aerophoto/ortho_old/192/toshima100481\n",
      "31.99799673216739\n",
      "../data/aerophoto/ortho_old/192/toshima100482\n",
      "23.963633529212522\n",
      "../data/aerophoto/ortho_old/192/toshima100483\n",
      "19.78110781256263\n",
      "../data/aerophoto/ortho_old/192/toshima100484\n",
      "30.211674656970256\n",
      "../data/aerophoto/ortho_old/192/toshima100485\n",
      "29.63297282217471\n"
     ]
    },
    {
     "name": "stderr",
     "output_type": "stream",
     "text": [
      "546it [00:55, 18.68it/s]"
     ]
    },
    {
     "name": "stdout",
     "output_type": "stream",
     "text": [
      "../data/aerophoto/ortho_old/192/toshima100486\n",
      "25.70058254242388\n",
      "../data/aerophoto/ortho_old/192/toshima100487\n",
      "37.65706491555785\n",
      "../data/aerophoto/ortho_old/192/toshima100488\n",
      "31.74000354853727\n",
      "../data/aerophoto/ortho_old/192/toshima100489\n",
      "35.78643275743061\n"
     ]
    },
    {
     "name": "stderr",
     "output_type": "stream",
     "text": [
      "550it [00:55, 17.52it/s]"
     ]
    },
    {
     "name": "stdout",
     "output_type": "stream",
     "text": [
      "../data/aerophoto/ortho_old/192/toshima10049\n",
      "30.769882132571016\n",
      "../data/aerophoto/ortho_old/192/toshima100490\n",
      "29.76478472024297\n",
      "../data/aerophoto/ortho_old/192/toshima100491\n",
      "32.87319259640178\n",
      "../data/aerophoto/ortho_old/192/toshima100492\n",
      "31.68271662322955\n"
     ]
    },
    {
     "name": "stderr",
     "output_type": "stream",
     "text": [
      "555it [00:55, 20.92it/s]"
     ]
    },
    {
     "name": "stdout",
     "output_type": "stream",
     "text": [
      "../data/aerophoto/ortho_old/192/toshima100493\n",
      "25.356559196555587\n",
      "../data/aerophoto/ortho_old/192/toshima100494\n",
      "39.430483866289606\n",
      "../data/aerophoto/ortho_old/192/toshima100495\n",
      "41.40223703270027\n",
      "../data/aerophoto/ortho_old/192/toshima100496\n",
      "46.445916633110365\n",
      "../data/aerophoto/ortho_old/192/toshima100497\n",
      "34.6991566856911\n"
     ]
    },
    {
     "name": "stderr",
     "output_type": "stream",
     "text": [
      "\r",
      "558it [00:56, 15.94it/s]"
     ]
    },
    {
     "name": "stdout",
     "output_type": "stream",
     "text": [
      "../data/aerophoto/ortho_old/192/toshima100498\n",
      "53.07648201051896\n",
      "../data/aerophoto/ortho_old/192/toshima100499\n",
      "41.33222473469663\n",
      "../data/aerophoto/ortho_old/192/toshima1005\n"
     ]
    },
    {
     "name": "stderr",
     "output_type": "stream",
     "text": [
      "\r",
      "560it [00:56, 16.30it/s]"
     ]
    },
    {
     "name": "stdout",
     "output_type": "stream",
     "text": [
      "45.51033894648868\n",
      "../data/aerophoto/ortho_old/192/toshima10050\n",
      "23.453072326384053\n",
      "../data/aerophoto/ortho_old/192/toshima100500\n",
      "24.583734294447453\n",
      "../data/aerophoto/ortho_old/192/toshima100501\n",
      "23.61102276791632\n",
      "../data/aerophoto/ortho_old/192/toshima100502\n",
      "35.09603275867775\n"
     ]
    },
    {
     "name": "stderr",
     "output_type": "stream",
     "text": [
      "565it [00:56, 18.31it/s]"
     ]
    },
    {
     "name": "stdout",
     "output_type": "stream",
     "text": [
      "../data/aerophoto/ortho_old/192/toshima100503\n",
      "31.79169030388663\n",
      "../data/aerophoto/ortho_old/192/toshima100504\n",
      "31.259112902727626\n",
      "../data/aerophoto/ortho_old/192/toshima100505\n",
      "29.953036092930066\n",
      "../data/aerophoto/ortho_old/192/toshima100506\n",
      "31.375698764082895\n"
     ]
    },
    {
     "name": "stderr",
     "output_type": "stream",
     "text": [
      "569it [00:56, 18.14it/s]"
     ]
    },
    {
     "name": "stdout",
     "output_type": "stream",
     "text": [
      "../data/aerophoto/ortho_old/192/toshima100507\n",
      "33.364751168560424\n",
      "../data/aerophoto/ortho_old/192/toshima100508\n",
      "28.599114926445562\n",
      "../data/aerophoto/ortho_old/192/toshima100509\n",
      "29.22831614709381\n",
      "../data/aerophoto/ortho_old/192/toshima10051\n",
      "23.62379965029426\n"
     ]
    },
    {
     "name": "stderr",
     "output_type": "stream",
     "text": [
      "573it [00:56, 17.15it/s]"
     ]
    },
    {
     "name": "stdout",
     "output_type": "stream",
     "text": [
      "../data/aerophoto/ortho_old/192/toshima100510\n",
      "28.66294071440514\n",
      "../data/aerophoto/ortho_old/192/toshima100511\n",
      "33.134998062392626\n",
      "../data/aerophoto/ortho_old/192/toshima100512\n",
      "41.02821725732927\n",
      "../data/aerophoto/ortho_old/192/toshima100513\n"
     ]
    },
    {
     "name": "stderr",
     "output_type": "stream",
     "text": [
      "\r",
      "575it [00:57, 14.30it/s]"
     ]
    },
    {
     "name": "stdout",
     "output_type": "stream",
     "text": [
      "48.32034897800434\n",
      "../data/aerophoto/ortho_old/192/toshima100514\n",
      "51.16532931479015\n",
      "../data/aerophoto/ortho_old/192/toshima100515\n",
      "29.826580113910946\n",
      "../data/aerophoto/ortho_old/192/toshima100516\n",
      "28.639364524721337\n"
     ]
    },
    {
     "name": "stderr",
     "output_type": "stream",
     "text": [
      "580it [00:57, 15.81it/s]"
     ]
    },
    {
     "name": "stdout",
     "output_type": "stream",
     "text": [
      "../data/aerophoto/ortho_old/192/toshima100517\n",
      "33.382225031288954\n",
      "../data/aerophoto/ortho_old/192/toshima100518\n",
      "32.84345978059432\n",
      "../data/aerophoto/ortho_old/192/toshima100519\n",
      "30.485286054958806\n"
     ]
    },
    {
     "name": "stderr",
     "output_type": "stream",
     "text": [
      "\r",
      "582it [00:57, 14.92it/s]"
     ]
    },
    {
     "name": "stdout",
     "output_type": "stream",
     "text": [
      "../data/aerophoto/ortho_old/192/toshima10052\n",
      "25.2584174943916\n",
      "../data/aerophoto/ortho_old/192/toshima100520\n",
      "43.84175611711868\n",
      "../data/aerophoto/ortho_old/192/toshima100521\n",
      "42.51785439006311\n"
     ]
    },
    {
     "name": "stderr",
     "output_type": "stream",
     "text": [
      "586it [00:57, 15.10it/s]"
     ]
    },
    {
     "name": "stdout",
     "output_type": "stream",
     "text": [
      "../data/aerophoto/ortho_old/192/toshima100522\n",
      "56.69761000064859\n",
      "../data/aerophoto/ortho_old/192/toshima100523\n",
      "47.750292375269865\n",
      "../data/aerophoto/ortho_old/192/toshima100524\n",
      "27.069438688697954\n",
      "../data/aerophoto/ortho_old/192/toshima100525\n",
      "30.46242996095856\n"
     ]
    },
    {
     "name": "stderr",
     "output_type": "stream",
     "text": [
      "590it [00:58, 14.46it/s]"
     ]
    },
    {
     "name": "stdout",
     "output_type": "stream",
     "text": [
      "../data/aerophoto/ortho_old/192/toshima100526\n",
      "29.331394236051715\n",
      "../data/aerophoto/ortho_old/192/toshima100527\n",
      "31.2563579205881\n",
      "../data/aerophoto/ortho_old/192/toshima100528\n",
      "28.844177384466505\n"
     ]
    },
    {
     "name": "stderr",
     "output_type": "stream",
     "text": [
      "\r",
      "592it [00:58, 12.95it/s]"
     ]
    },
    {
     "name": "stdout",
     "output_type": "stream",
     "text": [
      "../data/aerophoto/ortho_old/192/toshima100529\n",
      "21.933499844113996\n",
      "../data/aerophoto/ortho_old/192/toshima10053\n",
      "28.914090397669845\n",
      "../data/aerophoto/ortho_old/192/toshima100530\n"
     ]
    },
    {
     "name": "stderr",
     "output_type": "stream",
     "text": [
      "596it [00:58, 13.93it/s]"
     ]
    },
    {
     "name": "stdout",
     "output_type": "stream",
     "text": [
      "36.37147893223223\n",
      "../data/aerophoto/ortho_old/192/toshima100531\n",
      "37.94425986364986\n",
      "../data/aerophoto/ortho_old/192/toshima100532\n",
      "32.53629825457568\n",
      "../data/aerophoto/ortho_old/192/toshima100533\n",
      "33.236253626853845\n"
     ]
    },
    {
     "name": "stderr",
     "output_type": "stream",
     "text": [
      "601it [00:58, 16.72it/s]"
     ]
    },
    {
     "name": "stdout",
     "output_type": "stream",
     "text": [
      "../data/aerophoto/ortho_old/192/toshima100534\n",
      "52.37995882803607\n",
      "../data/aerophoto/ortho_old/192/toshima100535\n",
      "39.38695960804693\n",
      "../data/aerophoto/ortho_old/192/toshima100536\n",
      "33.95303482962764\n",
      "../data/aerophoto/ortho_old/192/toshima100537\n",
      "31.403000166890948\n",
      "../data/aerophoto/ortho_old/192/toshima100538\n",
      "26.303270269341546\n"
     ]
    },
    {
     "name": "stderr",
     "output_type": "stream",
     "text": [
      "\r",
      "604it [00:58, 17.64it/s]"
     ]
    },
    {
     "name": "stdout",
     "output_type": "stream",
     "text": [
      "../data/aerophoto/ortho_old/192/toshima100539\n",
      "27.55171996622485\n",
      "../data/aerophoto/ortho_old/192/toshima10054\n",
      "23.2765676729181\n",
      "../data/aerophoto/ortho_old/192/toshima100540\n",
      "34.437069398325434\n",
      "../data/aerophoto/ortho_old/192/toshima100541\n",
      "28.738587124394094\n"
     ]
    },
    {
     "name": "stderr",
     "output_type": "stream",
     "text": [
      "609it [00:59, 19.26it/s]"
     ]
    },
    {
     "name": "stdout",
     "output_type": "stream",
     "text": [
      "../data/aerophoto/ortho_old/192/toshima100542\n",
      "36.62910348831772\n",
      "../data/aerophoto/ortho_old/192/toshima100543\n",
      "34.885051662092025\n",
      "../data/aerophoto/ortho_old/192/toshima100544\n",
      "32.43108071909307\n",
      "../data/aerophoto/ortho_old/192/toshima100545\n",
      "39.89340446720134\n",
      "../data/aerophoto/ortho_old/192/toshima100546\n",
      "31.365013556999177\n"
     ]
    },
    {
     "name": "stderr",
     "output_type": "stream",
     "text": [
      "\r",
      "612it [00:59, 20.70it/s]"
     ]
    },
    {
     "name": "stdout",
     "output_type": "stream",
     "text": [
      "../data/aerophoto/ortho_old/192/toshima100547\n",
      "36.113886434160754\n",
      "../data/aerophoto/ortho_old/192/toshima100548\n",
      "31.616425453104146\n",
      "../data/aerophoto/ortho_old/192/toshima100549\n",
      "28.03110613960102\n",
      "../data/aerophoto/ortho_old/192/toshima10055\n",
      "27.143029760463328\n"
     ]
    },
    {
     "name": "stderr",
     "output_type": "stream",
     "text": [
      "618it [00:59, 19.19it/s]"
     ]
    },
    {
     "name": "stdout",
     "output_type": "stream",
     "text": [
      "../data/aerophoto/ortho_old/192/toshima100550\n",
      "25.448734915605833\n",
      "../data/aerophoto/ortho_old/192/toshima100551\n",
      "32.262926376824815\n",
      "../data/aerophoto/ortho_old/192/toshima100552\n",
      "43.10142225881416\n",
      "../data/aerophoto/ortho_old/192/toshima100553\n",
      "37.030999711434646\n",
      "../data/aerophoto/ortho_old/192/toshima100554\n",
      "34.12548865167563\n"
     ]
    },
    {
     "name": "stderr",
     "output_type": "stream",
     "text": [
      "\r",
      "621it [00:59, 19.70it/s]"
     ]
    },
    {
     "name": "stdout",
     "output_type": "stream",
     "text": [
      "../data/aerophoto/ortho_old/192/toshima100555\n",
      "38.737577603664356\n",
      "../data/aerophoto/ortho_old/192/toshima100556\n",
      "33.28379917434238\n",
      "../data/aerophoto/ortho_old/192/toshima100557\n",
      "33.751893880546525\n",
      "../data/aerophoto/ortho_old/192/toshima100558\n",
      "31.560601455584315\n"
     ]
    },
    {
     "name": "stderr",
     "output_type": "stream",
     "text": [
      "626it [01:00, 18.92it/s]"
     ]
    },
    {
     "name": "stdout",
     "output_type": "stream",
     "text": [
      "../data/aerophoto/ortho_old/192/toshima100559\n",
      "33.041464352714456\n",
      "../data/aerophoto/ortho_old/192/toshima10056\n",
      "32.20554913671548\n",
      "../data/aerophoto/ortho_old/192/toshima100560\n",
      "38.84113149914014\n",
      "../data/aerophoto/ortho_old/192/toshima100561\n",
      "33.61234066712371\n",
      "../data/aerophoto/ortho_old/192/toshima100562\n",
      "42.84642621405243\n"
     ]
    },
    {
     "name": "stderr",
     "output_type": "stream",
     "text": [
      "632it [01:00, 23.07it/s]"
     ]
    },
    {
     "name": "stdout",
     "output_type": "stream",
     "text": [
      "../data/aerophoto/ortho_old/192/toshima100563\n",
      "32.204539167106184\n",
      "../data/aerophoto/ortho_old/192/toshima100564\n",
      "28.560028250602514\n",
      "../data/aerophoto/ortho_old/192/toshima100565\n",
      "27.90327572334109\n",
      "../data/aerophoto/ortho_old/192/toshima100566\n",
      "27.666876295600193\n",
      "../data/aerophoto/ortho_old/192/toshima100567\n",
      "37.678962015128704\n",
      "../data/aerophoto/ortho_old/192/toshima100568\n",
      "28.54371722890684\n"
     ]
    },
    {
     "name": "stderr",
     "output_type": "stream",
     "text": [
      "638it [01:00, 20.67it/s]"
     ]
    },
    {
     "name": "stdout",
     "output_type": "stream",
     "text": [
      "../data/aerophoto/ortho_old/192/toshima100569\n",
      "41.64942256111601\n",
      "../data/aerophoto/ortho_old/192/toshima10057\n",
      "19.999216508870067\n",
      "../data/aerophoto/ortho_old/192/toshima100570\n",
      "53.2106533165458\n",
      "../data/aerophoto/ortho_old/192/toshima100571\n",
      "53.39282459869539\n"
     ]
    },
    {
     "name": "stderr",
     "output_type": "stream",
     "text": [
      "\r",
      "641it [01:00, 20.82it/s]"
     ]
    },
    {
     "name": "stdout",
     "output_type": "stream",
     "text": [
      "../data/aerophoto/ortho_old/192/toshima100572\n",
      "42.84540901188527\n",
      "../data/aerophoto/ortho_old/192/toshima100573\n",
      "33.86301380125082\n",
      "../data/aerophoto/ortho_old/192/toshima100574\n",
      "36.970648578688156\n",
      "../data/aerophoto/ortho_old/192/toshima100575\n",
      "34.96792529956274\n",
      "../data/aerophoto/ortho_old/192/toshima100576\n",
      "27.8578966673558\n"
     ]
    },
    {
     "name": "stderr",
     "output_type": "stream",
     "text": [
      "647it [01:00, 21.68it/s]"
     ]
    },
    {
     "name": "stdout",
     "output_type": "stream",
     "text": [
      "../data/aerophoto/ortho_old/192/toshima100577\n",
      "31.52363215228723\n",
      "../data/aerophoto/ortho_old/192/toshima100578\n",
      "29.049100224451426\n",
      "../data/aerophoto/ortho_old/192/toshima100579\n",
      "45.68237210214812\n",
      "../data/aerophoto/ortho_old/192/toshima10058\n",
      "24.830020429510615\n",
      "../data/aerophoto/ortho_old/192/toshima100580\n",
      "32.24550020192404\n"
     ]
    },
    {
     "name": "stderr",
     "output_type": "stream",
     "text": [
      "654it [01:01, 25.07it/s]"
     ]
    },
    {
     "name": "stdout",
     "output_type": "stream",
     "text": [
      "../data/aerophoto/ortho_old/192/toshima100581\n",
      "39.723435947200784\n",
      "../data/aerophoto/ortho_old/192/toshima100582\n",
      "32.23984928998917\n",
      "../data/aerophoto/ortho_old/192/toshima100583\n",
      "27.821919749708478\n",
      "../data/aerophoto/ortho_old/192/toshima100584\n",
      "27.785542260373926\n",
      "../data/aerophoto/ortho_old/192/toshima100585\n",
      "20.841711786949833\n",
      "../data/aerophoto/ortho_old/192/toshima100586\n",
      "21.797216350227856\n"
     ]
    },
    {
     "name": "stderr",
     "output_type": "stream",
     "text": [
      "\r",
      "657it [01:01, 24.06it/s]"
     ]
    },
    {
     "name": "stdout",
     "output_type": "stream",
     "text": [
      "../data/aerophoto/ortho_old/192/toshima100587\n",
      "23.652533513537367\n",
      "../data/aerophoto/ortho_old/192/toshima100588\n",
      "28.085497024771993\n",
      "../data/aerophoto/ortho_old/192/toshima100589\n",
      "22.67283966315185\n",
      "../data/aerophoto/ortho_old/192/toshima10059\n",
      "24.320766041245374\n"
     ]
    },
    {
     "name": "stderr",
     "output_type": "stream",
     "text": [
      "663it [01:01, 22.58it/s]"
     ]
    },
    {
     "name": "stdout",
     "output_type": "stream",
     "text": [
      "../data/aerophoto/ortho_old/192/toshima100590\n",
      "26.01144958338237\n",
      "../data/aerophoto/ortho_old/192/toshima100591\n",
      "21.554672829124254\n",
      "../data/aerophoto/ortho_old/192/toshima100592\n",
      "23.839152301872\n",
      "../data/aerophoto/ortho_old/192/toshima100593\n",
      "37.81495513203075\n",
      "../data/aerophoto/ortho_old/192/toshima100594\n",
      "28.047042918460225\n",
      "../data/aerophoto/ortho_old/192/toshima100595\n",
      "37.60488430103183\n"
     ]
    },
    {
     "name": "stderr",
     "output_type": "stream",
     "text": [
      "\r",
      "667it [01:01, 26.00it/s]"
     ]
    },
    {
     "name": "stdout",
     "output_type": "stream",
     "text": [
      "../data/aerophoto/ortho_old/192/toshima100596\n",
      "40.679831165849215\n",
      "../data/aerophoto/ortho_old/192/toshima100597\n",
      "42.70181082746548\n",
      "../data/aerophoto/ortho_old/192/toshima100598\n",
      "30.03612215042582\n",
      "../data/aerophoto/ortho_old/192/toshima100599\n",
      "37.765255951044345\n",
      "../data/aerophoto/ortho_old/192/toshima1006\n",
      "35.74900347549914\n",
      "../data/aerophoto/ortho_old/192/toshima10060\n",
      "16.37091064989103\n"
     ]
    },
    {
     "name": "stderr",
     "output_type": "stream",
     "text": [
      "\r",
      "671it [01:01, 25.90it/s]"
     ]
    },
    {
     "name": "stdout",
     "output_type": "stream",
     "text": [
      "../data/aerophoto/ortho_old/192/toshima100600\n",
      "38.02600521104479\n",
      "../data/aerophoto/ortho_old/192/toshima100601\n",
      "42.67371625344332\n",
      "../data/aerophoto/ortho_old/192/toshima100602\n",
      "42.21391940085235\n"
     ]
    },
    {
     "name": "stderr",
     "output_type": "stream",
     "text": [
      "677it [01:02, 19.53it/s]"
     ]
    },
    {
     "name": "stdout",
     "output_type": "stream",
     "text": [
      "../data/aerophoto/ortho_old/192/toshima100603\n",
      "42.65129724834276\n",
      "../data/aerophoto/ortho_old/192/toshima100604\n",
      "35.57549902366512\n",
      "../data/aerophoto/ortho_old/192/toshima100605\n",
      "28.898192828829547\n",
      "../data/aerophoto/ortho_old/192/toshima100606\n",
      "25.658795023157822\n"
     ]
    },
    {
     "name": "stderr",
     "output_type": "stream",
     "text": [
      "\r",
      "680it [01:02, 19.57it/s]"
     ]
    },
    {
     "name": "stdout",
     "output_type": "stream",
     "text": [
      "../data/aerophoto/ortho_old/192/toshima100607\n",
      "30.708406677535507\n",
      "../data/aerophoto/ortho_old/192/toshima100608\n",
      "28.44106741247561\n",
      "../data/aerophoto/ortho_old/192/toshima100609\n",
      "38.431972152317186\n",
      "../data/aerophoto/ortho_old/192/toshima10061\n",
      "24.53954886890667\n",
      "../data/aerophoto/ortho_old/192/toshima100610\n",
      "27.96207603840774\n"
     ]
    },
    {
     "name": "stderr",
     "output_type": "stream",
     "text": [
      "686it [01:02, 20.75it/s]"
     ]
    },
    {
     "name": "stdout",
     "output_type": "stream",
     "text": [
      "../data/aerophoto/ortho_old/192/toshima100611\n",
      "41.574461266533525\n",
      "../data/aerophoto/ortho_old/192/toshima100612\n",
      "35.014257615028335\n",
      "../data/aerophoto/ortho_old/192/toshima100613\n",
      "25.222411826324716\n",
      "../data/aerophoto/ortho_old/192/toshima100614\n",
      "37.5628338960178\n"
     ]
    },
    {
     "name": "stderr",
     "output_type": "stream",
     "text": [
      "692it [01:02, 21.95it/s]"
     ]
    },
    {
     "name": "stdout",
     "output_type": "stream",
     "text": [
      "../data/aerophoto/ortho_old/192/toshima100615\n",
      "37.91169165481405\n",
      "../data/aerophoto/ortho_old/192/toshima100616\n",
      "39.97443899071555\n",
      "../data/aerophoto/ortho_old/192/toshima100617\n",
      "22.313825241468503\n",
      "../data/aerophoto/ortho_old/192/toshima100618\n",
      "24.197838933165272\n",
      "../data/aerophoto/ortho_old/192/toshima100619\n",
      "36.06557192428089\n",
      "../data/aerophoto/ortho_old/192/toshima10062\n",
      "28.63456072833552\n"
     ]
    },
    {
     "name": "stderr",
     "output_type": "stream",
     "text": [
      "\r",
      "695it [01:03, 20.66it/s]"
     ]
    },
    {
     "name": "stdout",
     "output_type": "stream",
     "text": [
      "../data/aerophoto/ortho_old/192/toshima100620\n",
      "36.73113528070746\n",
      "../data/aerophoto/ortho_old/192/toshima100621\n",
      "43.14065126554989\n",
      "../data/aerophoto/ortho_old/192/toshima100622\n",
      "34.03277566645355\n",
      "../data/aerophoto/ortho_old/192/toshima100623\n",
      "44.90894403842722\n"
     ]
    },
    {
     "name": "stderr",
     "output_type": "stream",
     "text": [
      "701it [01:03, 22.51it/s]"
     ]
    },
    {
     "name": "stdout",
     "output_type": "stream",
     "text": [
      "../data/aerophoto/ortho_old/192/toshima100624\n",
      "37.520884610886355\n",
      "../data/aerophoto/ortho_old/192/toshima100625\n",
      "29.616018190193408\n",
      "../data/aerophoto/ortho_old/192/toshima100626\n",
      "34.08265428768701\n",
      "../data/aerophoto/ortho_old/192/toshima100627\n",
      "39.48602942999612\n",
      "../data/aerophoto/ortho_old/192/toshima100628\n",
      "30.6141219166002\n",
      "../data/aerophoto/ortho_old/192/toshima100629\n",
      "20.368168749193718\n"
     ]
    },
    {
     "name": "stderr",
     "output_type": "stream",
     "text": [
      "\r",
      "704it [01:03, 24.19it/s]"
     ]
    },
    {
     "name": "stdout",
     "output_type": "stream",
     "text": [
      "../data/aerophoto/ortho_old/192/toshima10063\n",
      "31.32356380052642\n",
      "../data/aerophoto/ortho_old/192/toshima100630\n",
      "22.54929028751221\n",
      "../data/aerophoto/ortho_old/192/toshima100631\n",
      "26.512166903046495\n"
     ]
    },
    {
     "name": "stderr",
     "output_type": "stream",
     "text": [
      "710it [01:03, 20.39it/s]"
     ]
    },
    {
     "name": "stdout",
     "output_type": "stream",
     "text": [
      "../data/aerophoto/ortho_old/192/toshima100632\n",
      "27.021775789963055\n",
      "../data/aerophoto/ortho_old/192/toshima100633\n",
      "24.25675949552443\n",
      "../data/aerophoto/ortho_old/192/toshima100634\n",
      "26.06021590089997\n",
      "../data/aerophoto/ortho_old/192/toshima100635\n",
      "24.903408572183285\n",
      "../data/aerophoto/ortho_old/192/toshima100636\n"
     ]
    },
    {
     "name": "stderr",
     "output_type": "stream",
     "text": [
      "\r",
      "714it [01:03, 23.01it/s]"
     ]
    },
    {
     "name": "stdout",
     "output_type": "stream",
     "text": [
      "30.88524543475496\n",
      "../data/aerophoto/ortho_old/192/toshima100637\n",
      "27.813948367364\n",
      "../data/aerophoto/ortho_old/192/toshima100638\n",
      "38.2992708459854\n",
      "../data/aerophoto/ortho_old/192/toshima100639\n",
      "28.623009842491392\n",
      "../data/aerophoto/ortho_old/192/toshima10064\n",
      "16.509772310339365\n",
      "../data/aerophoto/ortho_old/192/toshima100640\n"
     ]
    },
    {
     "name": "stderr",
     "output_type": "stream",
     "text": [
      "720it [01:04, 24.62it/s]"
     ]
    },
    {
     "name": "stdout",
     "output_type": "stream",
     "text": [
      "18.840343781149194\n",
      "../data/aerophoto/ortho_old/192/toshima100641\n",
      "15.130432774048332\n",
      "../data/aerophoto/ortho_old/192/toshima100642\n",
      "15.172512257537583\n",
      "../data/aerophoto/ortho_old/192/toshima100643\n",
      "16.740625483591554\n",
      "../data/aerophoto/ortho_old/192/toshima100644\n",
      "19.89257883520115\n",
      "../data/aerophoto/ortho_old/192/toshima100645\n",
      "25.319807669609062\n",
      "../data/aerophoto/ortho_old/192/toshima100646\n"
     ]
    },
    {
     "name": "stderr",
     "output_type": "stream",
     "text": [
      "727it [01:04, 27.02it/s]"
     ]
    },
    {
     "name": "stdout",
     "output_type": "stream",
     "text": [
      "27.063259678391006\n",
      "../data/aerophoto/ortho_old/192/toshima100647\n",
      "25.00628329668774\n",
      "../data/aerophoto/ortho_old/192/toshima100648\n",
      "27.85170869775038\n",
      "../data/aerophoto/ortho_old/192/toshima100649\n",
      "34.301047565079756\n",
      "../data/aerophoto/ortho_old/192/toshima10065\n",
      "23.594979046886994\n",
      "../data/aerophoto/ortho_old/192/toshima100650\n",
      "28.59206604414776\n",
      "../data/aerophoto/ortho_old/192/toshima100651\n",
      "29.50936699540346\n"
     ]
    },
    {
     "name": "stderr",
     "output_type": "stream",
     "text": [
      "\r",
      "730it [01:04, 25.08it/s]"
     ]
    },
    {
     "name": "stdout",
     "output_type": "stream",
     "text": [
      "../data/aerophoto/ortho_old/192/toshima100652\n",
      "28.00239344771631\n",
      "../data/aerophoto/ortho_old/192/toshima100653\n",
      "24.110946528587576\n",
      "../data/aerophoto/ortho_old/192/toshima100654\n",
      "28.8904221439648\n",
      "../data/aerophoto/ortho_old/192/toshima100655\n",
      "30.852865916032314\n",
      "../data/aerophoto/ortho_old/192/toshima100656\n",
      "45.643585098786815\n"
     ]
    },
    {
     "name": "stderr",
     "output_type": "stream",
     "text": [
      "736it [01:04, 24.55it/s]"
     ]
    },
    {
     "name": "stdout",
     "output_type": "stream",
     "text": [
      "../data/aerophoto/ortho_old/192/toshima100657\n",
      "41.94336129725684\n",
      "../data/aerophoto/ortho_old/192/toshima100658\n",
      "37.73307165848941\n",
      "../data/aerophoto/ortho_old/192/toshima100659\n",
      "42.23978170949544\n",
      "../data/aerophoto/ortho_old/192/toshima10066\n",
      "30.44931246340322\n",
      "../data/aerophoto/ortho_old/192/toshima100660\n",
      "28.194209415766764\n",
      "../data/aerophoto/ortho_old/192/toshima100661\n"
     ]
    },
    {
     "name": "stderr",
     "output_type": "stream",
     "text": [
      "743it [01:05, 25.70it/s]"
     ]
    },
    {
     "name": "stdout",
     "output_type": "stream",
     "text": [
      "29.59842017292719\n",
      "../data/aerophoto/ortho_old/192/toshima100662\n",
      "22.619717231910915\n",
      "../data/aerophoto/ortho_old/192/toshima100663\n",
      "37.780481839588475\n",
      "../data/aerophoto/ortho_old/192/toshima100664\n",
      "28.84911909871206\n",
      "../data/aerophoto/ortho_old/192/toshima100665\n",
      "29.605833189401917\n",
      "../data/aerophoto/ortho_old/192/toshima100666\n",
      "39.395857365128855\n"
     ]
    },
    {
     "name": "stderr",
     "output_type": "stream",
     "text": [
      "\r",
      "746it [01:05, 23.09it/s]"
     ]
    },
    {
     "name": "stdout",
     "output_type": "stream",
     "text": [
      "../data/aerophoto/ortho_old/192/toshima100667\n",
      "40.94109815137089\n",
      "../data/aerophoto/ortho_old/192/toshima100668\n",
      "40.40101184675649\n",
      "../data/aerophoto/ortho_old/192/toshima100669\n",
      "23.659376797218837\n",
      "../data/aerophoto/ortho_old/192/toshima10067\n",
      "28.049925691493932\n",
      "../data/aerophoto/ortho_old/192/toshima100670\n",
      "22.496497262738238\n"
     ]
    },
    {
     "name": "stderr",
     "output_type": "stream",
     "text": [
      "752it [01:05, 25.80it/s]"
     ]
    },
    {
     "name": "stdout",
     "output_type": "stream",
     "text": [
      "../data/aerophoto/ortho_old/192/toshima100671\n",
      "27.385465289645452\n",
      "../data/aerophoto/ortho_old/192/toshima100672\n",
      "24.63613786911325\n",
      "../data/aerophoto/ortho_old/192/toshima100673\n",
      "30.557782136656815\n",
      "../data/aerophoto/ortho_old/192/toshima100674\n",
      "29.084289156333337\n",
      "../data/aerophoto/ortho_old/192/toshima100675\n",
      "49.953796994974944\n",
      "../data/aerophoto/ortho_old/192/toshima100676\n",
      "34.419612735712285\n"
     ]
    },
    {
     "name": "stderr",
     "output_type": "stream",
     "text": [
      "758it [01:05, 26.95it/s]"
     ]
    },
    {
     "name": "stdout",
     "output_type": "stream",
     "text": [
      "../data/aerophoto/ortho_old/192/toshima100677\n",
      "23.274789921340055\n",
      "../data/aerophoto/ortho_old/192/toshima100678\n",
      "26.535659576148266\n",
      "../data/aerophoto/ortho_old/192/toshima100679\n",
      "30.967150134689298\n",
      "../data/aerophoto/ortho_old/192/toshima10068\n",
      "29.91849031868748\n",
      "../data/aerophoto/ortho_old/192/toshima100680\n",
      "37.84990152494956\n",
      "../data/aerophoto/ortho_old/192/toshima100681\n",
      "40.83653895866928\n"
     ]
    },
    {
     "name": "stderr",
     "output_type": "stream",
     "text": [
      "764it [01:05, 25.97it/s]"
     ]
    },
    {
     "name": "stdout",
     "output_type": "stream",
     "text": [
      "../data/aerophoto/ortho_old/192/toshima100682\n",
      "37.36692664135679\n",
      "../data/aerophoto/ortho_old/192/toshima100683\n",
      "32.57896598352519\n",
      "../data/aerophoto/ortho_old/192/toshima100684\n",
      "44.471437163368016\n",
      "../data/aerophoto/ortho_old/192/toshima100685\n",
      "41.667252743130916\n",
      "../data/aerophoto/ortho_old/192/toshima100686\n",
      "30.444520199900403\n",
      "../data/aerophoto/ortho_old/192/toshima100687\n",
      "30.179092798011265\n"
     ]
    },
    {
     "name": "stderr",
     "output_type": "stream",
     "text": [
      "770it [01:06, 23.60it/s]"
     ]
    },
    {
     "name": "stdout",
     "output_type": "stream",
     "text": [
      "../data/aerophoto/ortho_old/192/toshima100688\n",
      "39.80992606118328\n",
      "../data/aerophoto/ortho_old/192/toshima100689\n",
      "28.86471939072609\n",
      "../data/aerophoto/ortho_old/192/toshima10069\n",
      "28.915797086079454\n",
      "../data/aerophoto/ortho_old/192/toshima100690\n",
      "20.425812367699784\n",
      "../data/aerophoto/ortho_old/192/toshima100691\n",
      "20.896007476943097\n"
     ]
    },
    {
     "name": "stderr",
     "output_type": "stream",
     "text": [
      "777it [01:06, 26.07it/s]"
     ]
    },
    {
     "name": "stdout",
     "output_type": "stream",
     "text": [
      "../data/aerophoto/ortho_old/192/toshima100692\n",
      "22.708882077137247\n",
      "../data/aerophoto/ortho_old/192/toshima100693\n",
      "30.343055059892322\n",
      "../data/aerophoto/ortho_old/192/toshima100694\n",
      "23.885484040514676\n",
      "../data/aerophoto/ortho_old/192/toshima100695\n",
      "21.014109452765208\n",
      "../data/aerophoto/ortho_old/192/toshima100696\n",
      "37.681530054272486\n",
      "../data/aerophoto/ortho_old/192/toshima100697\n",
      "38.74698512566954\n"
     ]
    },
    {
     "name": "stderr",
     "output_type": "stream",
     "text": [
      "\r",
      "780it [01:06, 21.83it/s]"
     ]
    },
    {
     "name": "stdout",
     "output_type": "stream",
     "text": [
      "../data/aerophoto/ortho_old/192/toshima100698\n",
      "38.623966816526575\n",
      "../data/aerophoto/ortho_old/192/toshima100699\n",
      "32.0520367839507\n",
      "../data/aerophoto/ortho_old/192/toshima1007\n",
      "43.7977446517029\n",
      "../data/aerophoto/ortho_old/192/toshima10070\n",
      "31.353694057544974\n"
     ]
    },
    {
     "name": "stderr",
     "output_type": "stream",
     "text": [
      "\r",
      "783it [01:06, 21.60it/s]"
     ]
    },
    {
     "name": "stdout",
     "output_type": "stream",
     "text": [
      "../data/aerophoto/ortho_old/192/toshima100700\n",
      "27.81270575738005\n",
      "../data/aerophoto/ortho_old/192/toshima100701\n",
      "40.4900804532824\n",
      "../data/aerophoto/ortho_old/192/toshima100702\n",
      "36.95865902972957\n",
      "../data/aerophoto/ortho_old/192/toshima100703\n"
     ]
    },
    {
     "name": "stderr",
     "output_type": "stream",
     "text": [
      "\r",
      "786it [01:06, 20.54it/s]"
     ]
    },
    {
     "name": "stdout",
     "output_type": "stream",
     "text": [
      "19.566461744008766\n",
      "../data/aerophoto/ortho_old/192/toshima100704\n",
      "13.376093927347478\n",
      "../data/aerophoto/ortho_old/192/toshima100705\n",
      "29.100351962312832\n",
      "../data/aerophoto/ortho_old/192/toshima100706\n"
     ]
    },
    {
     "name": "stderr",
     "output_type": "stream",
     "text": [
      "\r",
      "789it [01:07, 17.04it/s]"
     ]
    },
    {
     "name": "stdout",
     "output_type": "stream",
     "text": [
      "20.976670116759614\n",
      "../data/aerophoto/ortho_old/192/toshima100707\n",
      "37.103799006192084\n",
      "../data/aerophoto/ortho_old/192/toshima100708\n",
      "31.34755238987101\n"
     ]
    },
    {
     "name": "stderr",
     "output_type": "stream",
     "text": [
      "793it [01:07, 16.30it/s]"
     ]
    },
    {
     "name": "stdout",
     "output_type": "stream",
     "text": [
      "../data/aerophoto/ortho_old/192/toshima100709\n",
      "16.570391448138437\n",
      "../data/aerophoto/ortho_old/192/toshima10071\n",
      "24.144384349532757\n",
      "../data/aerophoto/ortho_old/192/toshima100710\n",
      "27.381815208220534\n",
      "../data/aerophoto/ortho_old/192/toshima100711\n",
      "23.19012100259603\n"
     ]
    },
    {
     "name": "stderr",
     "output_type": "stream",
     "text": [
      "799it [01:07, 19.28it/s]"
     ]
    },
    {
     "name": "stdout",
     "output_type": "stream",
     "text": [
      "../data/aerophoto/ortho_old/192/toshima100712\n",
      "18.492633109181956\n",
      "../data/aerophoto/ortho_old/192/toshima100713\n",
      "14.542206967162292\n",
      "../data/aerophoto/ortho_old/192/toshima100714\n",
      "21.131447052628804\n",
      "../data/aerophoto/ortho_old/192/toshima100715\n",
      "19.09460982242871\n",
      "../data/aerophoto/ortho_old/192/toshima100716\n",
      "19.472150155148036\n"
     ]
    },
    {
     "name": "stderr",
     "output_type": "stream",
     "text": [
      "\r",
      "802it [01:07, 17.25it/s]"
     ]
    },
    {
     "name": "stdout",
     "output_type": "stream",
     "text": [
      "../data/aerophoto/ortho_old/192/toshima100717\n",
      "31.30797647335352\n",
      "../data/aerophoto/ortho_old/192/toshima100718\n",
      "27.21167970085968\n",
      "../data/aerophoto/ortho_old/192/toshima100719\n",
      "25.62805318975888\n"
     ]
    },
    {
     "name": "stderr",
     "output_type": "stream",
     "text": [
      "806it [01:08, 15.74it/s]"
     ]
    },
    {
     "name": "stdout",
     "output_type": "stream",
     "text": [
      "../data/aerophoto/ortho_old/192/toshima10072\n",
      "30.541085484822506\n",
      "../data/aerophoto/ortho_old/192/toshima100720\n",
      "21.453318591262562\n",
      "../data/aerophoto/ortho_old/192/toshima100721\n",
      "28.49864151451027\n",
      "../data/aerophoto/ortho_old/192/toshima100722\n"
     ]
    },
    {
     "name": "stderr",
     "output_type": "stream",
     "text": [
      "\r",
      "809it [01:08, 17.32it/s]"
     ]
    },
    {
     "name": "stdout",
     "output_type": "stream",
     "text": [
      "20.95901447143021\n",
      "../data/aerophoto/ortho_old/192/toshima100723\n",
      "22.036504167876746\n",
      "../data/aerophoto/ortho_old/192/toshima100724\n",
      "24.72072885146731\n",
      "../data/aerophoto/ortho_old/192/toshima100725\n",
      "26.852161872096328\n",
      "../data/aerophoto/ortho_old/192/toshima100726\n",
      "31.270829986290334\n"
     ]
    },
    {
     "name": "stderr",
     "output_type": "stream",
     "text": [
      "814it [01:08, 18.62it/s]"
     ]
    },
    {
     "name": "stdout",
     "output_type": "stream",
     "text": [
      "../data/aerophoto/ortho_old/192/toshima100727\n",
      "19.05525208271896\n",
      "../data/aerophoto/ortho_old/192/toshima100728\n",
      "16.14864265540584\n",
      "../data/aerophoto/ortho_old/192/toshima100729\n",
      "19.543836329173924\n",
      "../data/aerophoto/ortho_old/192/toshima10073\n",
      "28.61561008761606\n"
     ]
    },
    {
     "name": "stderr",
     "output_type": "stream",
     "text": [
      "\r",
      "817it [01:08, 19.68it/s]"
     ]
    },
    {
     "name": "stdout",
     "output_type": "stream",
     "text": [
      "../data/aerophoto/ortho_old/192/toshima100730\n",
      "21.18945683572566\n",
      "../data/aerophoto/ortho_old/192/toshima100731\n",
      "21.10858059507653\n",
      "../data/aerophoto/ortho_old/192/toshima100732\n",
      "24.92916705314018\n",
      "../data/aerophoto/ortho_old/192/toshima100733\n",
      "30.37396367358623\n"
     ]
    },
    {
     "name": "stderr",
     "output_type": "stream",
     "text": [
      "822it [01:08, 20.73it/s]"
     ]
    },
    {
     "name": "stdout",
     "output_type": "stream",
     "text": [
      "../data/aerophoto/ortho_old/192/toshima100734\n",
      "46.439588666015645\n",
      "../data/aerophoto/ortho_old/192/toshima100735\n",
      "31.297330999457355\n",
      "../data/aerophoto/ortho_old/192/toshima100736\n",
      "22.360286920097824\n",
      "../data/aerophoto/ortho_old/192/toshima100737\n",
      "35.364341029771076\n",
      "../data/aerophoto/ortho_old/192/toshima100738\n",
      "27.022241450976384\n",
      "../data/aerophoto/ortho_old/192/toshima100739\n"
     ]
    },
    {
     "name": "stderr",
     "output_type": "stream",
     "text": [
      "\r",
      "825it [01:09, 19.72it/s]"
     ]
    },
    {
     "name": "stdout",
     "output_type": "stream",
     "text": [
      "40.76072843768026\n",
      "../data/aerophoto/ortho_old/192/toshima10074\n",
      "22.140587233380607\n",
      "../data/aerophoto/ortho_old/192/toshima100740\n",
      "21.036698106150926\n",
      "../data/aerophoto/ortho_old/192/toshima100741\n",
      "22.76559130805701\n"
     ]
    },
    {
     "name": "stderr",
     "output_type": "stream",
     "text": [
      "832it [01:09, 24.07it/s]"
     ]
    },
    {
     "name": "stdout",
     "output_type": "stream",
     "text": [
      "../data/aerophoto/ortho_old/192/toshima100742\n",
      "16.714713001274177\n",
      "../data/aerophoto/ortho_old/192/toshima100743\n",
      "17.132762256318813\n",
      "../data/aerophoto/ortho_old/192/toshima100744\n",
      "18.485992599765616\n",
      "../data/aerophoto/ortho_old/192/toshima100745\n",
      "24.640822351742365\n",
      "../data/aerophoto/ortho_old/192/toshima100746\n",
      "21.98511478277834\n",
      "../data/aerophoto/ortho_old/192/toshima100747\n",
      "20.461720284847274\n",
      "../data/aerophoto/ortho_old/192/toshima100748\n",
      "23.90980428636074\n"
     ]
    },
    {
     "name": "stderr",
     "output_type": "stream",
     "text": [
      "839it [01:09, 26.16it/s]"
     ]
    },
    {
     "name": "stdout",
     "output_type": "stream",
     "text": [
      "../data/aerophoto/ortho_old/192/toshima100749\n",
      "19.199510886683676\n",
      "../data/aerophoto/ortho_old/192/toshima10075\n",
      "31.374903148077035\n",
      "../data/aerophoto/ortho_old/192/toshima100750\n",
      "28.31200327133698\n",
      "../data/aerophoto/ortho_old/192/toshima100751\n",
      "22.782219108978552\n",
      "../data/aerophoto/ortho_old/192/toshima100752\n",
      "29.692382291381843\n",
      "../data/aerophoto/ortho_old/192/toshima100753\n",
      "26.495573180855416\n"
     ]
    },
    {
     "name": "stderr",
     "output_type": "stream",
     "text": [
      "846it [01:09, 28.85it/s]"
     ]
    },
    {
     "name": "stdout",
     "output_type": "stream",
     "text": [
      "../data/aerophoto/ortho_old/192/toshima100754\n",
      "40.257961947961306\n",
      "../data/aerophoto/ortho_old/192/toshima100755\n",
      "33.558793882666784\n",
      "../data/aerophoto/ortho_old/192/toshima100756\n",
      "40.152063083418724\n",
      "../data/aerophoto/ortho_old/192/toshima100757\n",
      "30.402564039061467\n",
      "../data/aerophoto/ortho_old/192/toshima100758\n",
      "30.252781181748716\n",
      "../data/aerophoto/ortho_old/192/toshima100759\n",
      "23.544909705272598\n"
     ]
    },
    {
     "name": "stderr",
     "output_type": "stream",
     "text": [
      "852it [01:10, 27.15it/s]"
     ]
    },
    {
     "name": "stdout",
     "output_type": "stream",
     "text": [
      "../data/aerophoto/ortho_old/192/toshima10076\n",
      "32.448049752015386\n",
      "../data/aerophoto/ortho_old/192/toshima100760\n",
      "25.708086501573355\n",
      "../data/aerophoto/ortho_old/192/toshima100761\n",
      "28.017700134465965\n",
      "../data/aerophoto/ortho_old/192/toshima100762\n",
      "28.109271103400303\n",
      "../data/aerophoto/ortho_old/192/toshima100763\n",
      "37.58733961466413\n",
      "../data/aerophoto/ortho_old/192/toshima100764\n",
      "34.95669355984761\n"
     ]
    },
    {
     "name": "stderr",
     "output_type": "stream",
     "text": [
      "\r",
      "856it [01:10, 27.73it/s]"
     ]
    },
    {
     "name": "stdout",
     "output_type": "stream",
     "text": [
      "../data/aerophoto/ortho_old/192/toshima100765\n",
      "20.637591637031083\n",
      "../data/aerophoto/ortho_old/192/toshima100766\n",
      "26.723069421178135\n",
      "../data/aerophoto/ortho_old/192/toshima100767\n",
      "29.922491788878727\n",
      "../data/aerophoto/ortho_old/192/toshima100768\n",
      "24.70841350644954\n",
      "../data/aerophoto/ortho_old/192/toshima100769\n"
     ]
    },
    {
     "name": "stderr",
     "output_type": "stream",
     "text": [
      "\r",
      "859it [01:10, 23.74it/s]"
     ]
    },
    {
     "name": "stdout",
     "output_type": "stream",
     "text": [
      "29.515821060074874\n",
      "../data/aerophoto/ortho_old/192/toshima10077\n",
      "32.06250572716165\n",
      "../data/aerophoto/ortho_old/192/toshima100770\n",
      "35.406343272674704\n",
      "../data/aerophoto/ortho_old/192/toshima100771\n",
      "36.04834217847344\n"
     ]
    },
    {
     "name": "stderr",
     "output_type": "stream",
     "text": [
      "866it [01:10, 24.50it/s]"
     ]
    },
    {
     "name": "stdout",
     "output_type": "stream",
     "text": [
      "../data/aerophoto/ortho_old/192/toshima100772\n",
      "36.354638598942884\n",
      "../data/aerophoto/ortho_old/192/toshima100773\n",
      "44.80672326942074\n",
      "../data/aerophoto/ortho_old/192/toshima100774\n",
      "31.38536885835041\n",
      "../data/aerophoto/ortho_old/192/toshima100775\n",
      "25.269608496237403\n",
      "../data/aerophoto/ortho_old/192/toshima100776\n",
      "27.243245227537486\n",
      "../data/aerophoto/ortho_old/192/toshima100777\n",
      "23.96341839649388\n"
     ]
    },
    {
     "name": "stderr",
     "output_type": "stream",
     "text": [
      "\r",
      "869it [01:10, 23.51it/s]"
     ]
    },
    {
     "name": "stdout",
     "output_type": "stream",
     "text": [
      "../data/aerophoto/ortho_old/192/toshima100778\n",
      "26.05043088175221\n",
      "../data/aerophoto/ortho_old/192/toshima100779\n",
      "40.00621644816408\n",
      "../data/aerophoto/ortho_old/192/toshima10078\n",
      "29.19672560034976\n",
      "../data/aerophoto/ortho_old/192/toshima100780\n",
      "22.157988667967928\n",
      "../data/aerophoto/ortho_old/192/toshima100781\n",
      "27.70714095714304\n"
     ]
    },
    {
     "name": "stderr",
     "output_type": "stream",
     "text": [
      "876it [01:11, 26.56it/s]"
     ]
    },
    {
     "name": "stdout",
     "output_type": "stream",
     "text": [
      "../data/aerophoto/ortho_old/192/toshima100782\n",
      "15.618032566756755\n",
      "../data/aerophoto/ortho_old/192/toshima100783\n",
      "41.756923814788124\n",
      "../data/aerophoto/ortho_old/192/toshima100784\n",
      "21.230237125139112\n",
      "../data/aerophoto/ortho_old/192/toshima100785\n",
      "26.72613688170675\n",
      "../data/aerophoto/ortho_old/192/toshima100786\n",
      "30.64324635231305\n",
      "../data/aerophoto/ortho_old/192/toshima100787\n",
      "40.67806941959429\n",
      "../data/aerophoto/ortho_old/192/toshima100788\n",
      "26.817285513889527\n"
     ]
    },
    {
     "name": "stderr",
     "output_type": "stream",
     "text": [
      "882it [01:11, 24.47it/s]"
     ]
    },
    {
     "name": "stdout",
     "output_type": "stream",
     "text": [
      "../data/aerophoto/ortho_old/192/toshima100789\n",
      "32.65036389352492\n",
      "../data/aerophoto/ortho_old/192/toshima10079\n",
      "30.265621894726287\n",
      "../data/aerophoto/ortho_old/192/toshima100790\n",
      "31.773096216709977\n",
      "../data/aerophoto/ortho_old/192/toshima100791\n",
      "29.108406840625076\n",
      "../data/aerophoto/ortho_old/192/toshima100792\n",
      "18.787880831832332\n",
      "../data/aerophoto/ortho_old/192/toshima100793\n"
     ]
    },
    {
     "name": "stderr",
     "output_type": "stream",
     "text": [
      "889it [01:11, 26.74it/s]"
     ]
    },
    {
     "name": "stdout",
     "output_type": "stream",
     "text": [
      "27.689771454879207\n",
      "../data/aerophoto/ortho_old/192/toshima100794\n",
      "24.964412331461286\n",
      "../data/aerophoto/ortho_old/192/toshima100795\n",
      "20.699754913521403\n",
      "../data/aerophoto/ortho_old/192/toshima100796\n",
      "26.58801868804953\n",
      "../data/aerophoto/ortho_old/192/toshima100797\n",
      "18.944896495954698\n",
      "../data/aerophoto/ortho_old/192/toshima100798\n",
      "24.658726130644048\n"
     ]
    },
    {
     "name": "stderr",
     "output_type": "stream",
     "text": [
      "\r",
      "892it [01:11, 23.41it/s]"
     ]
    },
    {
     "name": "stdout",
     "output_type": "stream",
     "text": [
      "../data/aerophoto/ortho_old/192/toshima100799\n",
      "38.38977547396608\n",
      "../data/aerophoto/ortho_old/192/toshima1008\n",
      "40.676498541265\n",
      "../data/aerophoto/ortho_old/192/toshima10080\n",
      "31.742673815081712\n",
      "../data/aerophoto/ortho_old/192/toshima100800\n",
      "18.76534871258669\n",
      "../data/aerophoto/ortho_old/192/toshima100801\n"
     ]
    },
    {
     "name": "stderr",
     "output_type": "stream",
     "text": [
      "899it [01:12, 26.84it/s]"
     ]
    },
    {
     "name": "stdout",
     "output_type": "stream",
     "text": [
      "21.127764782763414\n",
      "../data/aerophoto/ortho_old/192/toshima100802\n",
      "17.282981953397545\n",
      "../data/aerophoto/ortho_old/192/toshima100803\n",
      "19.298774074433176\n",
      "../data/aerophoto/ortho_old/192/toshima100804\n",
      "19.70590306623751\n",
      "../data/aerophoto/ortho_old/192/toshima100805\n",
      "29.619708987325097\n",
      "../data/aerophoto/ortho_old/192/toshima100806\n",
      "29.325225736025708\n",
      "../data/aerophoto/ortho_old/192/toshima100807\n",
      "26.16985442631682\n"
     ]
    },
    {
     "name": "stderr",
     "output_type": "stream",
     "text": [
      "905it [01:12, 25.87it/s]"
     ]
    },
    {
     "name": "stdout",
     "output_type": "stream",
     "text": [
      "../data/aerophoto/ortho_old/192/toshima100808\n",
      "28.598663081518282\n",
      "../data/aerophoto/ortho_old/192/toshima100809\n",
      "28.340240724734695\n",
      "../data/aerophoto/ortho_old/192/toshima10081\n",
      "36.238854545288525\n",
      "../data/aerophoto/ortho_old/192/toshima100810\n",
      "23.946862952912614\n",
      "../data/aerophoto/ortho_old/192/toshima100811\n",
      "22.954846465579106\n"
     ]
    },
    {
     "name": "stderr",
     "output_type": "stream",
     "text": [
      "\r",
      "909it [01:12, 27.55it/s]"
     ]
    },
    {
     "name": "stdout",
     "output_type": "stream",
     "text": [
      "../data/aerophoto/ortho_old/192/toshima100812\n",
      "24.982392388505605\n",
      "../data/aerophoto/ortho_old/192/toshima100813\n",
      "28.09082213869188\n",
      "../data/aerophoto/ortho_old/192/toshima100814\n",
      "30.342786792768013\n",
      "../data/aerophoto/ortho_old/192/toshima100815\n",
      "25.33581939475699\n",
      "../data/aerophoto/ortho_old/192/toshima100816\n",
      "27.03643586845101\n",
      "../data/aerophoto/ortho_old/192/toshima100817\n",
      "29.574971589373977\n"
     ]
    },
    {
     "name": "stderr",
     "output_type": "stream",
     "text": [
      "916it [01:12, 29.50it/s]"
     ]
    },
    {
     "name": "stdout",
     "output_type": "stream",
     "text": [
      "../data/aerophoto/ortho_old/192/toshima100818\n",
      "28.499994644730982\n",
      "../data/aerophoto/ortho_old/192/toshima100819\n",
      "24.888052161933853\n",
      "../data/aerophoto/ortho_old/192/toshima10082\n",
      "30.395122163983014\n",
      "../data/aerophoto/ortho_old/192/toshima100820\n",
      "17.54622748731948\n",
      "../data/aerophoto/ortho_old/192/toshima100821\n",
      "31.939128399836715\n",
      "../data/aerophoto/ortho_old/192/toshima100822\n",
      "33.82273913820429\n",
      "../data/aerophoto/ortho_old/192/toshima100823\n",
      "25.01566325225207\n",
      "../data/aerophoto/ortho_old/192/toshima100824\n"
     ]
    },
    {
     "name": "stderr",
     "output_type": "stream",
     "text": [
      "924it [01:12, 30.88it/s]"
     ]
    },
    {
     "name": "stdout",
     "output_type": "stream",
     "text": [
      "32.36234112855749\n",
      "../data/aerophoto/ortho_old/192/toshima100825\n",
      "29.75072121992025\n",
      "../data/aerophoto/ortho_old/192/toshima100826\n",
      "28.30018290989806\n",
      "../data/aerophoto/ortho_old/192/toshima100827\n",
      "23.18086414162471\n",
      "../data/aerophoto/ortho_old/192/toshima100828\n",
      "35.22928752855167\n",
      "../data/aerophoto/ortho_old/192/toshima100829\n",
      "27.594123035572135\n",
      "../data/aerophoto/ortho_old/192/toshima10083\n"
     ]
    },
    {
     "name": "stderr",
     "output_type": "stream",
     "text": [
      "\r",
      "928it [01:13, 28.90it/s]"
     ]
    },
    {
     "name": "stdout",
     "output_type": "stream",
     "text": [
      "37.84842206094004\n",
      "../data/aerophoto/ortho_old/192/toshima100830\n",
      "33.65934792324963\n",
      "../data/aerophoto/ortho_old/192/toshima100831\n",
      "20.82331790190751\n",
      "../data/aerophoto/ortho_old/192/toshima100832\n",
      "38.57132682119261\n",
      "../data/aerophoto/ortho_old/192/toshima100833\n",
      "50.53707212198116\n",
      "../data/aerophoto/ortho_old/192/toshima100834\n",
      "39.25730599267785\n",
      "../data/aerophoto/ortho_old/192/toshima100835\n",
      "47.16705029534884\n"
     ]
    },
    {
     "name": "stderr",
     "output_type": "stream",
     "text": [
      "936it [01:13, 29.50it/s]"
     ]
    },
    {
     "name": "stdout",
     "output_type": "stream",
     "text": [
      "../data/aerophoto/ortho_old/192/toshima100836\n",
      "41.96821448427004\n",
      "../data/aerophoto/ortho_old/192/toshima100837\n",
      "28.10687468982879\n",
      "../data/aerophoto/ortho_old/192/toshima100838\n",
      "33.843445180893085\n",
      "../data/aerophoto/ortho_old/192/toshima100839\n",
      "30.64355736846287\n",
      "../data/aerophoto/ortho_old/192/toshima10084\n",
      "24.910936183827808\n"
     ]
    },
    {
     "name": "stderr",
     "output_type": "stream",
     "text": [
      "\r",
      "940it [01:13, 27.81it/s]"
     ]
    },
    {
     "name": "stdout",
     "output_type": "stream",
     "text": [
      "../data/aerophoto/ortho_old/192/toshima100840\n",
      "32.768067310206675\n",
      "../data/aerophoto/ortho_old/192/toshima100841\n",
      "36.97540680209899\n",
      "../data/aerophoto/ortho_old/192/toshima100842\n",
      "39.930989512957524\n",
      "../data/aerophoto/ortho_old/192/toshima100843\n",
      "37.858037095588735\n",
      "../data/aerophoto/ortho_old/192/toshima100844\n",
      "30.44914760958983\n",
      "../data/aerophoto/ortho_old/192/toshima100845\n",
      "40.02442274355017\n",
      "../data/aerophoto/ortho_old/192/toshima100846\n",
      "30.88295789898406\n"
     ]
    },
    {
     "name": "stderr",
     "output_type": "stream",
     "text": [
      "948it [01:13, 28.64it/s]"
     ]
    },
    {
     "name": "stdout",
     "output_type": "stream",
     "text": [
      "../data/aerophoto/ortho_old/192/toshima100847\n",
      "30.442348840115304\n",
      "../data/aerophoto/ortho_old/192/toshima100848\n",
      "30.232615779062026\n",
      "../data/aerophoto/ortho_old/192/toshima100849\n",
      "35.46488936152267\n",
      "../data/aerophoto/ortho_old/192/toshima10085\n",
      "27.113643069181496\n",
      "../data/aerophoto/ortho_old/192/toshima100850\n",
      "46.19025601112299\n"
     ]
    },
    {
     "name": "stderr",
     "output_type": "stream",
     "text": [
      "956it [01:13, 31.81it/s]"
     ]
    },
    {
     "name": "stdout",
     "output_type": "stream",
     "text": [
      "../data/aerophoto/ortho_old/192/toshima100851\n",
      "50.29538578198963\n",
      "../data/aerophoto/ortho_old/192/toshima100852\n",
      "29.315522814711628\n",
      "../data/aerophoto/ortho_old/192/toshima100853\n",
      "28.636531614081274\n",
      "../data/aerophoto/ortho_old/192/toshima100854\n",
      "36.92695657781889\n",
      "../data/aerophoto/ortho_old/192/toshima100855\n",
      "30.389030073802655\n",
      "../data/aerophoto/ortho_old/192/toshima100856\n",
      "28.06158677420052\n",
      "../data/aerophoto/ortho_old/192/toshima100857\n",
      "27.394348795880255\n",
      "../data/aerophoto/ortho_old/192/toshima100858\n",
      "38.03652323022921\n",
      "../data/aerophoto/ortho_old/192/toshima100859\n"
     ]
    },
    {
     "name": "stderr",
     "output_type": "stream",
     "text": [
      "\r",
      "961it [01:14, 33.46it/s]"
     ]
    },
    {
     "name": "stdout",
     "output_type": "stream",
     "text": [
      "38.3785067658507\n",
      "../data/aerophoto/ortho_old/192/toshima10086\n",
      "31.678857195559626\n",
      "../data/aerophoto/ortho_old/192/toshima100860\n",
      "48.35016127416842\n",
      "../data/aerophoto/ortho_old/192/toshima100861\n",
      "37.9351780947149\n",
      "../data/aerophoto/ortho_old/192/toshima100862\n",
      "34.66756186033055\n",
      "../data/aerophoto/ortho_old/192/toshima100863\n",
      "46.18742673367275\n",
      "../data/aerophoto/ortho_old/192/toshima100864\n",
      "30.913332182637745\n"
     ]
    },
    {
     "name": "stderr",
     "output_type": "stream",
     "text": [
      "969it [01:14, 30.53it/s]"
     ]
    },
    {
     "name": "stdout",
     "output_type": "stream",
     "text": [
      "../data/aerophoto/ortho_old/192/toshima100865\n",
      "38.64090127208799\n",
      "../data/aerophoto/ortho_old/192/toshima100866\n",
      "36.301199697031585\n",
      "../data/aerophoto/ortho_old/192/toshima100867\n",
      "39.596071360454445\n",
      "../data/aerophoto/ortho_old/192/toshima100868\n",
      "29.364249072510894\n",
      "../data/aerophoto/ortho_old/192/toshima100869\n",
      "35.068998020587294\n",
      "../data/aerophoto/ortho_old/192/toshima10087\n",
      "28.307049265551708\n",
      "../data/aerophoto/ortho_old/192/toshima100870\n"
     ]
    },
    {
     "name": "stderr",
     "output_type": "stream",
     "text": [
      "\r",
      "973it [01:14, 31.41it/s]"
     ]
    },
    {
     "name": "stdout",
     "output_type": "stream",
     "text": [
      "44.63672919548347\n",
      "../data/aerophoto/ortho_old/192/toshima100871\n",
      "37.58024291354866\n",
      "../data/aerophoto/ortho_old/192/toshima100872\n",
      "36.51357298422527\n",
      "../data/aerophoto/ortho_old/192/toshima100873\n",
      "32.53099604119693\n",
      "../data/aerophoto/ortho_old/192/toshima100874\n",
      "31.303269074139653\n",
      "../data/aerophoto/ortho_old/192/toshima100875\n",
      "34.98257604552053\n",
      "../data/aerophoto/ortho_old/192/toshima100876\n"
     ]
    },
    {
     "name": "stderr",
     "output_type": "stream",
     "text": [
      "981it [01:14, 32.75it/s]"
     ]
    },
    {
     "name": "stdout",
     "output_type": "stream",
     "text": [
      "43.434430143413365\n",
      "../data/aerophoto/ortho_old/192/toshima100877\n",
      "31.149971369500747\n",
      "../data/aerophoto/ortho_old/192/toshima100878\n",
      "27.814722684077427\n",
      "../data/aerophoto/ortho_old/192/toshima100879\n",
      "30.75652634207217\n",
      "../data/aerophoto/ortho_old/192/toshima10088\n",
      "29.40945579371976\n",
      "../data/aerophoto/ortho_old/192/toshima100880\n",
      "29.561702382095337\n",
      "../data/aerophoto/ortho_old/192/toshima100881\n",
      "35.70285897787654\n",
      "../data/aerophoto/ortho_old/192/toshima100882\n",
      "35.87183429175545\n",
      "../data/aerophoto/ortho_old/192/toshima100883\n",
      "22.817938626403638\n"
     ]
    },
    {
     "name": "stderr",
     "output_type": "stream",
     "text": [
      "990it [01:14, 34.27it/s]"
     ]
    },
    {
     "name": "stdout",
     "output_type": "stream",
     "text": [
      "../data/aerophoto/ortho_old/192/toshima100884\n",
      "19.477174616124323\n",
      "../data/aerophoto/ortho_old/192/toshima100885\n",
      "40.751576887989074\n",
      "../data/aerophoto/ortho_old/192/toshima100886\n",
      "40.807607372002174\n",
      "../data/aerophoto/ortho_old/192/toshima100887\n",
      "30.51982481862743\n",
      "../data/aerophoto/ortho_old/192/toshima100888\n",
      "32.769308315773685\n",
      "../data/aerophoto/ortho_old/192/toshima100889\n",
      "41.80139633860017\n",
      "../data/aerophoto/ortho_old/192/toshima10089\n",
      "32.123415938852425\n"
     ]
    },
    {
     "name": "stderr",
     "output_type": "stream",
     "text": [
      "\r",
      "994it [01:15, 32.69it/s]"
     ]
    },
    {
     "name": "stdout",
     "output_type": "stream",
     "text": [
      "../data/aerophoto/ortho_old/192/toshima100890\n",
      "35.477030963047895\n",
      "../data/aerophoto/ortho_old/192/toshima100891\n",
      "37.917746879557534\n",
      "../data/aerophoto/ortho_old/192/toshima100892\n",
      "23.619954531474416\n",
      "../data/aerophoto/ortho_old/192/toshima100893\n",
      "29.521524653272078\n",
      "../data/aerophoto/ortho_old/192/toshima100894\n",
      "35.88360946588421\n",
      "../data/aerophoto/ortho_old/192/toshima100895\n",
      "37.31706249018652\n"
     ]
    },
    {
     "name": "stderr",
     "output_type": "stream",
     "text": [
      "1000it [01:15, 13.27it/s]"
     ]
    },
    {
     "name": "stdout",
     "output_type": "stream",
     "text": [
      "../data/aerophoto/ortho_old/192/toshima100896\n",
      "26.085539396800527\n",
      "../data/aerophoto/ortho_old/192/toshima100897\n",
      "26.556351237945403\n"
     ]
    },
    {
     "name": "stderr",
     "output_type": "stream",
     "text": [
      "\n"
     ]
    }
   ],
   "source": [
    "df_list = df.TEXT.values\n",
    "n_sample = 1000\n",
    "df_list = df_list[:n_sample]\n",
    "df_label = df[\"判定\"].values\n",
    "df_label = df_label[:n_sample]\n",
    "a = []\n",
    "b = []\n",
    "c = []\n",
    "for name, label in tqdm.tqdm(zip(df_list, df_label)):\n",
    "    print(os.path.join(aero_old_path, name))\n",
    "    name = name + \".png\"\n",
    "    old_tmp_1 = cv2.imread(os.path.join(aero_old_path, name), 1)\n",
    "    new_tmp_1 = cv2.imread(os.path.join(aero_new_path, name), 1)\n",
    "    d_aero = diff_img(new_tmp_1, old_tmp_1)\n",
    "    \n",
    "    old_tmp_1 = cv2.imread(os.path.join(refrection_old_path, name), 1)\n",
    "    new_tmp_1 = cv2.imread(os.path.join(refrection_new_path, name), 1)\n",
    "    d_ref = diff_img(new_tmp_1, old_tmp_1)\n",
    "    \n",
    "    old_tmp_1 = cv2.imread(os.path.join(elevation_old_path, name), 1)\n",
    "    new_tmp_1 = cv2.imread(os.path.join(elevation_new_path, name), 1)\n",
    "    d_ele = diff_img(new_tmp_1, old_tmp_1)\n",
    "    \n",
    "    old_tmp_1 = cv2.imread(os.path.join(shaded_relief_old_path, name), 1)\n",
    "    new_tmp_1 = cv2.imread(os.path.join(shaded_relief_new_path, name), 1)\n",
    "    d_shade = diff_img(new_tmp_1, old_tmp_1)\n",
    "    a.append(d_aero)\n",
    "    b.append(d_ref)\n",
    "    c.append(label)\n",
    "                            "
   ]
  },
  {
   "cell_type": "code",
   "execution_count": 32,
   "id": "945cb983",
   "metadata": {},
   "outputs": [
    {
     "data": {
      "image/png": "[encoded data removed]",
      "text/plain": [
       "<Figure size 432x288 with 1 Axes>"
      ]
     },
     "metadata": {
      "needs_background": "light"
     },
     "output_type": "display_data"
    }
   ],
   "source": [
    "result = pd.DataFrame()\n",
    "result[\"diff_aero\"] = a\n",
    "result[\"diff_ref\"] = b\n",
    "result[\"label\"] = c\n",
    "result[\"label\"] = result[\"label\"].replace(0, \"blue\")\n",
    "result[\"label\"] = result[\"label\"].replace(1, \"red\")\n",
    "blue = result[result.label == \"blue\"].sample(n=100, random_state=1)\n",
    "blue = result[result.label == \"blue\"].sample(n=100, random_state=1)\n",
    "\n",
    "ax1 = result.plot.scatter(x='diff_aero',y='diff_ref',c='label')\n"
   ]
  },
  {
   "cell_type": "code",
   "execution_count": 34,
   "id": "ac72c192",
   "metadata": {},
   "outputs": [],
   "source": [
    "ind = result.label == \"blue\""
   ]
  },
  {
   "cell_type": "code",
   "execution_count": 35,
   "id": "805b0975",
   "metadata": {},
   "outputs": [
    {
     "data": {
      "text/plain": [
       "0       True\n",
       "1       True\n",
       "2       True\n",
       "3       True\n",
       "4      False\n",
       "       ...  \n",
       "995    False\n",
       "996    False\n",
       "997    False\n",
       "998    False\n",
       "999    False\n",
       "Name: label, Length: 1000, dtype: bool"
      ]
     },
     "execution_count": 35,
     "metadata": {},
     "output_type": "execute_result"
    }
   ],
   "source": [
    "ind"
   ]
  },
  {
   "cell_type": "code",
   "execution_count": null,
   "id": "1fad13e1",
   "metadata": {},
   "outputs": [],
   "source": []
  }
 ],
 "metadata": {
  "kernelspec": {
   "display_name": "Python 3 (ipykernel)",
   "language": "python",
   "name": "python3"
  },
  "language_info": {
   "codemirror_mode": {
    "name": "ipython",
    "version": 3
   },
   "file_extension": ".py",
   "mimetype": "text/x-python",
   "name": "python",
   "nbconvert_exporter": "python",
   "pygments_lexer": "ipython3",
   "version": "3.8.8"
  }
 },
 "nbformat": 4,
 "nbformat_minor": 5
}
